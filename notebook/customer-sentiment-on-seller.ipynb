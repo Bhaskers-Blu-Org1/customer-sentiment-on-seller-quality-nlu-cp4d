{
 "cells": [
  {
   "cell_type": "markdown",
   "metadata": {},
   "source": [
    "### Import Libraries"
   ]
  },
  {
   "cell_type": "code",
   "execution_count": null,
   "metadata": {},
   "outputs": [],
   "source": [
    "!pip install ibm_watson"
   ]
  },
  {
   "cell_type": "code",
   "execution_count": null,
   "metadata": {},
   "outputs": [],
   "source": [
    "!pip install pandas"
   ]
  },
  {
   "cell_type": "code",
   "execution_count": null,
   "metadata": {},
   "outputs": [],
   "source": [
    "!pip install matplotlib"
   ]
  },
  {
   "cell_type": "code",
   "execution_count": null,
   "metadata": {},
   "outputs": [],
   "source": [
    "!pip install langdetect"
   ]
  },
  {
   "cell_type": "code",
   "execution_count": null,
   "metadata": {},
   "outputs": [],
   "source": [
    "!pip install ibm_db"
   ]
  },
  {
   "cell_type": "code",
   "execution_count": null,
   "metadata": {},
   "outputs": [],
   "source": [
    "import ibm_db\n",
    "import pandas as pd\n",
    "import numpy\n",
    "import matplotlib.pyplot as plt\n",
    "import json\n",
    "from langdetect import detect\n",
    "import dateutil.parser"
   ]
  },
  {
   "cell_type": "markdown",
   "metadata": {},
   "source": [
    "## Insert The Required Credentials Here"
   ]
  },
  {
   "cell_type": "markdown",
   "metadata": {},
   "source": [
    "1. Insert Watson Natural Language Understanding API key and URL here"
   ]
  },
  {
   "cell_type": "code",
   "execution_count": null,
   "metadata": {},
   "outputs": [],
   "source": [
    "# Insert Watson Natural Language Understanding API key and URL here\n",
    "\n",
    "watson_nlu_api_key = '<YOUR_NLU_API_KEY>'\n",
    "watson_nlu_url = '<YOUR_NLU_URL>'"
   ]
  },
  {
   "cell_type": "markdown",
   "metadata": {},
   "source": [
    "2. Insert credentials to load Customer Review Dataset here"
   ]
  },
  {
   "cell_type": "code",
   "execution_count": null,
   "metadata": {},
   "outputs": [],
   "source": [
    "# Insert Customer Review Dataset here\n"
   ]
  },
  {
   "cell_type": "markdown",
   "metadata": {},
   "source": [
    "3. Insert credentials to load Customer Order Details Dataset here"
   ]
  },
  {
   "cell_type": "code",
   "execution_count": null,
   "metadata": {},
   "outputs": [],
   "source": [
    "# Insert Customer Order Details Dataset here\n"
   ]
  },
  {
   "cell_type": "markdown",
   "metadata": {},
   "source": [
    "4. Insert Db2 Connection Credentials here"
   ]
  },
  {
   "cell_type": "code",
   "execution_count": null,
   "metadata": {},
   "outputs": [],
   "source": [
    "# Insert Db2 Connection Credentials here\n"
   ]
  },
  {
   "cell_type": "markdown",
   "metadata": {},
   "source": [
    "## Setup Watson NLU"
   ]
  },
  {
   "cell_type": "code",
   "execution_count": null,
   "metadata": {},
   "outputs": [],
   "source": [
    "from ibm_watson import NaturalLanguageUnderstandingV1\n",
    "from ibm_watson.natural_language_understanding_v1 \\\n",
    "    import Features, EntitiesOptions, KeywordsOptions, SyntaxOptions, SyntaxOptionsTokens\n",
    "from ibm_cloud_sdk_core.authenticators import IAMAuthenticator"
   ]
  },
  {
   "cell_type": "code",
   "execution_count": null,
   "metadata": {},
   "outputs": [],
   "source": [
    "authenticator = IAMAuthenticator(watson_nlu_api_key)\n",
    "natural_language_understanding = NaturalLanguageUnderstandingV1(\n",
    "    version='2019-07-12',\n",
    "    authenticator=authenticator\n",
    ")"
   ]
  },
  {
   "cell_type": "code",
   "execution_count": null,
   "metadata": {},
   "outputs": [],
   "source": [
    "natural_language_understanding.set_service_url(watson_nlu_url)"
   ]
  },
  {
   "cell_type": "markdown",
   "metadata": {},
   "source": [
    "### Understanding the data better"
   ]
  },
  {
   "cell_type": "code",
   "execution_count": null,
   "metadata": {},
   "outputs": [],
   "source": [
    "data.head(5)"
   ]
  },
  {
   "cell_type": "code",
   "execution_count": null,
   "metadata": {},
   "outputs": [],
   "source": [
    "data.shape"
   ]
  },
  {
   "cell_type": "markdown",
   "metadata": {},
   "source": [
    "### Summarize the data"
   ]
  },
  {
   "cell_type": "code",
   "execution_count": null,
   "metadata": {},
   "outputs": [],
   "source": [
    "data.describe()"
   ]
  },
  {
   "cell_type": "markdown",
   "metadata": {},
   "source": [
    "#### There are 65 different Customers"
   ]
  },
  {
   "cell_type": "code",
   "execution_count": null,
   "metadata": {},
   "outputs": [],
   "source": [
    "uniqueCustomers = data['id'].unique()\n",
    "len(uniqueCustomers)"
   ]
  },
  {
   "cell_type": "markdown",
   "metadata": {},
   "source": [
    "#### We select five product review"
   ]
  },
  {
   "cell_type": "code",
   "execution_count": null,
   "metadata": {},
   "outputs": [],
   "source": [
    "reviewBySingleCustomer = data.loc[data['id'] == 'AVpgNzjwLJeJML43Kpxn']\n",
    "productId1 = reviewBySingleCustomer[:527]\n",
    "productId1.describe()"
   ]
  },
  {
   "cell_type": "code",
   "execution_count": null,
   "metadata": {},
   "outputs": [],
   "source": [
    "reviewBySingleCustomer = data.loc[data['id'] == 'AVpe7xlELJeJML43ypLz']\n",
    "productId2 = reviewBySingleCustomer[:392]\n",
    "productId2.describe()"
   ]
  },
  {
   "cell_type": "code",
   "execution_count": null,
   "metadata": {},
   "outputs": [],
   "source": [
    "reviewBySingleCustomer = data.loc[data['id'] == 'AVqVGWQDv8e3D1O-ldFr']\n",
    "productId3 = reviewBySingleCustomer[:388]\n",
    "productId3.describe()"
   ]
  },
  {
   "cell_type": "code",
   "execution_count": null,
   "metadata": {},
   "outputs": [],
   "source": [
    "reviewBySingleCustomer = data.loc[data['id'] == 'AVqkIhxunnc1JgDc3kg_']\n",
    "productId4 = reviewBySingleCustomer[:488]\n",
    "productId4.describe()"
   ]
  },
  {
   "cell_type": "code",
   "execution_count": null,
   "metadata": {},
   "outputs": [],
   "source": [
    "reviewBySingleCustomer = data.loc[data['id'] == 'AVpfw2hvilAPnD_xh0rH']\n",
    "productId5 = reviewBySingleCustomer[:484]\n",
    "productId5.describe()"
   ]
  },
  {
   "cell_type": "code",
   "execution_count": null,
   "metadata": {},
   "outputs": [],
   "source": [
    "uniqueProductReviews = pd.concat([productId1, productId2, productId3, productId4, productId5])"
   ]
  },
  {
   "cell_type": "markdown",
   "metadata": {},
   "source": [
    "#### The customer reviews  for five products"
   ]
  },
  {
   "cell_type": "code",
   "execution_count": null,
   "metadata": {},
   "outputs": [],
   "source": [
    "uniqueProductReviews.head()"
   ]
  },
  {
   "cell_type": "markdown",
   "metadata": {},
   "source": [
    "#### has 2279 records"
   ]
  },
  {
   "cell_type": "code",
   "execution_count": null,
   "metadata": {},
   "outputs": [],
   "source": [
    "uniqueProductReviews.shape"
   ]
  },
  {
   "cell_type": "code",
   "execution_count": null,
   "metadata": {},
   "outputs": [],
   "source": [
    "uniqueProductReviews.describe()"
   ]
  },
  {
   "cell_type": "code",
   "execution_count": null,
   "metadata": {},
   "outputs": [],
   "source": [
    "len(uniqueProductReviews['id'].unique())"
   ]
  },
  {
   "cell_type": "markdown",
   "metadata": {},
   "source": [
    "### We then Pass the reviews from dataset one by one to get sentiments and emotions"
   ]
  },
  {
   "cell_type": "code",
   "execution_count": null,
   "metadata": {},
   "outputs": [],
   "source": [
    "sellerScores = []\n",
    "emotionScores = []\n",
    "for texts in uniqueProductReviews['reviews.text']:\n",
    "    \n",
    "    try:\n",
    "        language = detect(texts)\n",
    "    except:\n",
    "        continue\n",
    "        \n",
    "    if language != 'en':\n",
    "        continue\n",
    "    \n",
    "    wordLength = len(texts.split()) \n",
    "    print(\"\\n\"+texts+\"\\n\", wordLength, sep=\"\\t\")\n",
    "    \n",
    "    if int(wordLength) < 5:\n",
    "        continue\n",
    "    \n",
    "    response = natural_language_understanding.analyze(\n",
    "        text=texts,\n",
    "        features=Features(keywords=KeywordsOptions(sentiment=True,emotion=True,limit=2))).get_result()\n",
    "    jsonResponse = json.dumps(response, indent=2)\n",
    "    \n",
    "    X = json.loads(jsonResponse)\n",
    "    \n",
    "    if not X[\"keywords\"]:\n",
    "        continue\n",
    "       \n",
    "    sentiment = X[\"keywords\"][0][\"sentiment\"]\n",
    "    if sentiment['score'] < 0:\n",
    "        sentiment['score'] = 1 + sentiment['score']\n",
    "    sentimentScore = sentiment['score']\n",
    "\n",
    "    emotion = X[\"keywords\"][0][\"emotion\"]\n",
    "    emotions = [emotion[\"sadness\"], emotion[\"joy\"], emotion[\"fear\"], emotion[\"disgust\"], emotion[\"anger\"]]\n",
    "\n",
    "    j = 0\n",
    "    position = 0\n",
    "    emo = ''\n",
    "    for i in emotions:\n",
    "        if i > j:\n",
    "            j = i\n",
    "            index = position\n",
    "        position += 1\n",
    "\n",
    "    if index == 0:\n",
    "        emo = 'sad'\n",
    "    if index == 1:\n",
    "        emo = 'joy'\n",
    "    if index == 2:\n",
    "        emo = 'fear'\n",
    "    if index == 3:\n",
    "        emo = 'disgust'\n",
    "    if index == 4:\n",
    "        emo = 'anger'\n",
    "\n",
    "    emotionScore = j\n",
    "\n",
    "    AveragedSum = (sentimentScore + emotionScore) / 2\n",
    "\n",
    "    sellerScores.append(AveragedSum)\n",
    "    emotionScores.append(emo)"
   ]
  },
  {
   "cell_type": "markdown",
   "metadata": {},
   "source": [
    "#### You can see scores and and emotions for 2124 records out of 2279 \n",
    "\n",
    "This is because there were 155 records which were not understood by NLU and hence NLU had to discard them"
   ]
  },
  {
   "cell_type": "code",
   "execution_count": null,
   "metadata": {},
   "outputs": [],
   "source": [
    "print(sellerScores, emotionScores, sep = \"\\n\\n\")\n",
    "print(len(sellerScores), len(emotionScores), sep = \"\\n\\n\")"
   ]
  },
  {
   "cell_type": "markdown",
   "metadata": {},
   "source": [
    "### Understanding the seller scores better"
   ]
  },
  {
   "cell_type": "code",
   "execution_count": null,
   "metadata": {},
   "outputs": [],
   "source": [
    "sellerScoreDf = pd.DataFrame(sellerScores, columns=[\"sellerScore\"])"
   ]
  },
  {
   "cell_type": "markdown",
   "metadata": {},
   "source": [
    "### Rate the seller between 1 to 3\n",
    "\n",
    "##### We Split 3 based on 25% (0.34), 50% (0.60) and 75% (0.81) "
   ]
  },
  {
   "cell_type": "code",
   "execution_count": null,
   "metadata": {},
   "outputs": [],
   "source": [
    "sellerScoreDf.describe()"
   ]
  },
  {
   "cell_type": "code",
   "execution_count": null,
   "metadata": {},
   "outputs": [],
   "source": [
    "satisfactionScore = []\n",
    "minimum = 0.022058\n",
    "maximum = 0.991763\n",
    "q1 = 0.348248\n",
    "q2 = 0.601153\n",
    "q3 = 0.811665\n",
    "\n",
    "for individualScore in sellerScoreDf['sellerScore']:\n",
    "    \n",
    "    if individualScore >= minimum and individualScore <= q1:\n",
    "        satisfactionScore.append(0)\n",
    "    \n",
    "    if individualScore > q1 and individualScore <= q2:\n",
    "        satisfactionScore.append(1)\n",
    "    \n",
    "    if individualScore > q2 and individualScore <= q3:\n",
    "        satisfactionScore.append(2)\n",
    "    \n",
    "    if individualScore > q3 and individualScore <= maximum:\n",
    "        satisfactionScore.append(3)\n"
   ]
  },
  {
   "cell_type": "code",
   "execution_count": null,
   "metadata": {},
   "outputs": [],
   "source": [
    "print(len(satisfactionScore))"
   ]
  },
  {
   "cell_type": "code",
   "execution_count": null,
   "metadata": {},
   "outputs": [],
   "source": [
    "ids = []\n",
    "for items in uniqueProductReviews['id']:\n",
    "    ids.append(items)\n",
    "len(ids)"
   ]
  },
  {
   "cell_type": "code",
   "execution_count": null,
   "metadata": {},
   "outputs": [],
   "source": [
    "for i in range(0, 155, 1):\n",
    "    ids.pop(i)"
   ]
  },
  {
   "cell_type": "code",
   "execution_count": null,
   "metadata": {},
   "outputs": [],
   "source": [
    "len(ids)"
   ]
  },
  {
   "cell_type": "markdown",
   "metadata": {},
   "source": [
    "### We create the first dataset for our use, that is Seller Satisfaction Scores based on Customer Reviews."
   ]
  },
  {
   "cell_type": "code",
   "execution_count": null,
   "metadata": {},
   "outputs": [],
   "source": [
    "sellerScoreDf.insert(0, 'id', ids)"
   ]
  },
  {
   "cell_type": "code",
   "execution_count": null,
   "metadata": {},
   "outputs": [],
   "source": [
    "sellerScoreDf.insert(1, 'emotion', emotionScores)"
   ]
  },
  {
   "cell_type": "code",
   "execution_count": null,
   "metadata": {},
   "outputs": [],
   "source": [
    "sellerScoreDf.insert(2, 'Customer_Review_Satisfaction', satisfactionScore)"
   ]
  },
  {
   "cell_type": "code",
   "execution_count": null,
   "metadata": {},
   "outputs": [],
   "source": [
    "dataset1 = sellerScoreDf\n",
    "dataset1.head()"
   ]
  },
  {
   "cell_type": "code",
   "execution_count": null,
   "metadata": {},
   "outputs": [],
   "source": [
    "dataset1.to_csv('Customer_Review_Satisfaction.csv', encoding='utf-8', index=False)"
   ]
  },
  {
   "cell_type": "markdown",
   "metadata": {},
   "source": [
    "### We Can Visualize the dataset"
   ]
  },
  {
   "cell_type": "code",
   "execution_count": null,
   "metadata": {},
   "outputs": [],
   "source": [
    "viz = sellerScoreDf[['sellerScore','Customer_Review_Satisfaction']]\n",
    "viz.hist()\n",
    "plt.show()"
   ]
  },
  {
   "cell_type": "code",
   "execution_count": null,
   "metadata": {},
   "outputs": [],
   "source": [
    "plt.scatter(sellerScoreDf.Customer_Review_Satisfaction, sellerScoreDf.sellerScore,  color='blue')\n",
    "plt.xlabel(\"Seller Score Avg\")\n",
    "plt.ylabel(\"Seller Satisfaction score (out of 3)\")\n",
    "plt.show()"
   ]
  },
  {
   "cell_type": "markdown",
   "metadata": {},
   "source": [
    "### Import Dataset\n",
    "\n",
    "2. Customer orders Dataset"
   ]
  },
  {
   "cell_type": "code",
   "execution_count": null,
   "metadata": {},
   "outputs": [],
   "source": [
    "data2 = data2[['order_id', 'product_id' ,'order_status', 'order_estimated_delivery_date', 'order_delivered_customer_date']]\n",
    "data2.head()"
   ]
  },
  {
   "cell_type": "markdown",
   "metadata": {},
   "source": [
    "### Understanding the Dataset better"
   ]
  },
  {
   "cell_type": "code",
   "execution_count": null,
   "metadata": {},
   "outputs": [],
   "source": [
    "data2.shape"
   ]
  },
  {
   "cell_type": "code",
   "execution_count": null,
   "metadata": {},
   "outputs": [],
   "source": [
    "data2.describe()"
   ]
  },
  {
   "cell_type": "markdown",
   "metadata": {},
   "source": [
    "#### There are total 7 types of order status"
   ]
  },
  {
   "cell_type": "code",
   "execution_count": null,
   "metadata": {},
   "outputs": [],
   "source": [
    "uniqueOrderStatus = data2['order_status'].unique()\n",
    "print(uniqueOrderStatus)"
   ]
  },
  {
   "cell_type": "code",
   "execution_count": null,
   "metadata": {},
   "outputs": [],
   "source": [
    "OrderStatus = []\n",
    "for stat in uniqueOrderStatus:\n",
    "    orderBySingleCustomerStatus = data2.loc[data2['order_status'] == stat]\n",
    "    OrderStatus.append(len(orderBySingleCustomerStatus))"
   ]
  },
  {
   "cell_type": "markdown",
   "metadata": {},
   "source": [
    "#### Breakdown of the order status\n",
    "'delivered' -> 110197\n",
    "'invoiced' -> 359\n",
    "'shipped' -> 1185\n",
    "'canceled' -> 542\n",
    "'processing' -> 357\n",
    "'unavailable' -> 7\n",
    "'approved' -> 3"
   ]
  },
  {
   "cell_type": "code",
   "execution_count": null,
   "metadata": {},
   "outputs": [],
   "source": [
    "print(OrderStatus)"
   ]
  },
  {
   "cell_type": "markdown",
   "metadata": {},
   "source": [
    "#### We select five products order details"
   ]
  },
  {
   "cell_type": "code",
   "execution_count": null,
   "metadata": {},
   "outputs": [],
   "source": [
    "orderBySingleCustomerStatus1 = data2.loc[data2['product_id'] == 'aca2eb7d00ea1a7b8ebd4e68314663af']\n",
    "productId1 = orderBySingleCustomerStatus1\n",
    "productId1.describe()"
   ]
  },
  {
   "cell_type": "code",
   "execution_count": null,
   "metadata": {},
   "outputs": [],
   "source": [
    "orderBySingleCustomerStatus1 = data2.loc[data2['product_id'] == '389d119b48cf3043d311335e499d9c6b']\n",
    "productId2 = orderBySingleCustomerStatus1\n",
    "productId2.describe()"
   ]
  },
  {
   "cell_type": "code",
   "execution_count": null,
   "metadata": {},
   "outputs": [],
   "source": [
    "orderBySingleCustomerStatus1 = data2.loc[data2['product_id'] == '368c6c730842d78016ad823897a372db']\n",
    "productId3 = orderBySingleCustomerStatus1\n",
    "productId3.describe()"
   ]
  },
  {
   "cell_type": "code",
   "execution_count": null,
   "metadata": {},
   "outputs": [],
   "source": [
    "orderBySingleCustomerStatus1 = data2.loc[data2['product_id'] == '99a4788cb24856965c36a24e339b6058']\n",
    "productId4 = orderBySingleCustomerStatus1\n",
    "productId4.describe()"
   ]
  },
  {
   "cell_type": "code",
   "execution_count": null,
   "metadata": {},
   "outputs": [],
   "source": [
    "orderBySingleCustomerStatus1 = data2.loc[data2['product_id'] == '422879e10f46682990de24d770e7f83d']\n",
    "productId5 = orderBySingleCustomerStatus1\n",
    "productId5.describe()"
   ]
  },
  {
   "cell_type": "code",
   "execution_count": null,
   "metadata": {},
   "outputs": [],
   "source": [
    "uniqueOrderStatus = pd.concat([productId1, productId2, productId3, productId4, productId5])"
   ]
  },
  {
   "cell_type": "code",
   "execution_count": null,
   "metadata": {},
   "outputs": [],
   "source": [
    "uniqueOrderStatus.describe()"
   ]
  },
  {
   "cell_type": "code",
   "execution_count": null,
   "metadata": {},
   "outputs": [],
   "source": [
    "len(uniqueOrderStatus['product_id'].unique())"
   ]
  },
  {
   "cell_type": "markdown",
   "metadata": {},
   "source": [
    "#### Refactor `order_estimated_delivery_date`\t& `order_delivered_customer_date` columns"
   ]
  },
  {
   "cell_type": "code",
   "execution_count": null,
   "metadata": {},
   "outputs": [],
   "source": [
    "allEstimatedDates = [dates for dates in uniqueOrderStatus['order_estimated_delivery_date']]"
   ]
  },
  {
   "cell_type": "code",
   "execution_count": null,
   "metadata": {},
   "outputs": [],
   "source": [
    "estimatedDates = []\n",
    "for b in allEstimatedDates:\n",
    "    d = dateutil.parser.parse(b).date()\n",
    "    estimatedDates.append(d)"
   ]
  },
  {
   "cell_type": "code",
   "execution_count": null,
   "metadata": {},
   "outputs": [],
   "source": [
    "uniqueOrderStatus.insert(2, 'estimated_date', estimatedDates)\n",
    "uniqueOrderStatus = uniqueOrderStatus.drop(['order_estimated_delivery_date'], axis=1)"
   ]
  },
  {
   "cell_type": "code",
   "execution_count": null,
   "metadata": {},
   "outputs": [],
   "source": [
    "allDeliveredDates = [dates for dates in uniqueOrderStatus['order_delivered_customer_date']]"
   ]
  },
  {
   "cell_type": "code",
   "execution_count": null,
   "metadata": {},
   "outputs": [],
   "source": [
    "deliveredDates = []\n",
    "for b in allDeliveredDates:\n",
    "    try:\n",
    "        d = dateutil.parser.parse(b).date()\n",
    "        deliveredDates.append(d)\n",
    "    except:\n",
    "        deliveredDates.append(0)"
   ]
  },
  {
   "cell_type": "code",
   "execution_count": null,
   "metadata": {},
   "outputs": [],
   "source": [
    "uniqueOrderStatus.insert(3, 'delivered_date', deliveredDates)\n",
    "uniqueOrderStatus = uniqueOrderStatus.drop(['order_delivered_customer_date'], axis=1)"
   ]
  },
  {
   "cell_type": "code",
   "execution_count": null,
   "metadata": {
    "scrolled": false
   },
   "outputs": [],
   "source": [
    "uniqueOrderStatus.head()"
   ]
  },
  {
   "cell_type": "code",
   "execution_count": null,
   "metadata": {},
   "outputs": [],
   "source": [
    "uniqueOrderStatusShuffled = uniqueOrderStatus.sample(frac=1).reset_index(drop=True)\n",
    "uniqueOrderStatusShuffled.head()"
   ]
  },
  {
   "cell_type": "code",
   "execution_count": null,
   "metadata": {},
   "outputs": [],
   "source": [
    "data2.to_csv('order_details2.csv', encoding='utf-8', index=False)"
   ]
  },
  {
   "cell_type": "markdown",
   "metadata": {},
   "source": [
    "### Calculate Seller rating out of 2\n",
    "1. Based on Order Status"
   ]
  },
  {
   "cell_type": "code",
   "execution_count": null,
   "metadata": {},
   "outputs": [],
   "source": [
    "rating = []\n",
    "for x in uniqueOrderStatusShuffled['order_status']:\n",
    "    if x == 'delivered':\n",
    "        rating.append(1)\n",
    "    if x == 'canceled':\n",
    "        rating.append(0)\n",
    "    if x == 'unavailable':\n",
    "        rating.append(0)\n",
    "    else:\n",
    "        rating.append(0)"
   ]
  },
  {
   "cell_type": "code",
   "execution_count": null,
   "metadata": {},
   "outputs": [],
   "source": [
    "delta = []\n",
    "j = 0\n",
    "x = uniqueOrderStatusShuffled['estimated_date']\n",
    "for i in uniqueOrderStatusShuffled['delivered_date']:\n",
    "    if i == 0:\n",
    "        delta.append(999)\n",
    "        j = j+1\n",
    "    else:\n",
    "        y = i - x[j]\n",
    "        delta.append(y.days)\n",
    "        j =j+1"
   ]
  },
  {
   "cell_type": "code",
   "execution_count": null,
   "metadata": {},
   "outputs": [],
   "source": [
    "rating2 = []\n",
    "for i in delta:\n",
    "    if i <= 0:\n",
    "        rating2.append(1)\n",
    "    if i > 0:\n",
    "        rating2.append(0)"
   ]
  },
  {
   "cell_type": "code",
   "execution_count": null,
   "metadata": {},
   "outputs": [],
   "source": [
    "finalRating = [sum(x) for x in zip(rating, rating2)]"
   ]
  },
  {
   "cell_type": "code",
   "execution_count": null,
   "metadata": {},
   "outputs": [],
   "source": [
    "initialRating = [x for x in sellerScoreDf['Customer_Review_Satisfaction']]"
   ]
  },
  {
   "cell_type": "markdown",
   "metadata": {},
   "source": [
    "### Calculate the seller score by suming up the customer reviews score and order details score"
   ]
  },
  {
   "cell_type": "code",
   "execution_count": null,
   "metadata": {},
   "outputs": [],
   "source": [
    "sellersatisfactionScore = [sum(x) for x in zip(initialRating, finalRating)]"
   ]
  },
  {
   "cell_type": "code",
   "execution_count": null,
   "metadata": {},
   "outputs": [],
   "source": [
    "sellerScoreDf.head()"
   ]
  },
  {
   "cell_type": "code",
   "execution_count": null,
   "metadata": {},
   "outputs": [],
   "source": [
    "len(initialRating)"
   ]
  },
  {
   "cell_type": "code",
   "execution_count": null,
   "metadata": {},
   "outputs": [],
   "source": [
    "len(finalRating)"
   ]
  },
  {
   "cell_type": "code",
   "execution_count": null,
   "metadata": {},
   "outputs": [],
   "source": [
    "len(sellersatisfactionScore)"
   ]
  },
  {
   "cell_type": "code",
   "execution_count": null,
   "metadata": {},
   "outputs": [],
   "source": [
    "len(uniqueOrderStatusShuffled['product_id'])"
   ]
  },
  {
   "cell_type": "code",
   "execution_count": null,
   "metadata": {},
   "outputs": [],
   "source": [
    "ids = []\n",
    "for items in uniqueProductReviews['id']:\n",
    "    ids.append(items)\n",
    "print(len(ids))\n",
    "\n",
    "for i in range(0, 155, 1):\n",
    "    ids.pop(i)\n",
    "print(len(ids))"
   ]
  },
  {
   "cell_type": "code",
   "execution_count": null,
   "metadata": {},
   "outputs": [],
   "source": [
    "emotions = []\n",
    "for items in sellerScoreDf['emotion']:\n",
    "    emotions.append(items)\n",
    "print(len(ids))"
   ]
  },
  {
   "cell_type": "code",
   "execution_count": null,
   "metadata": {},
   "outputs": [],
   "source": [
    "print(len(finalRating))\n",
    "\n",
    "for i in range(0, 155, 1):\n",
    "    finalRating.pop(i)\n",
    "print(len(finalRating))"
   ]
  },
  {
   "cell_type": "markdown",
   "metadata": {},
   "source": [
    "### Finally Create the Dataset that contains product_ids, customer_emotions, customer_review_satisfaction_score, customer_order_satisfaction_score and seller_quality_score"
   ]
  },
  {
   "cell_type": "code",
   "execution_count": null,
   "metadata": {},
   "outputs": [],
   "source": [
    "secondPartDataFrame = pd.DataFrame(ids, columns=['product_ids'])"
   ]
  },
  {
   "cell_type": "code",
   "execution_count": null,
   "metadata": {},
   "outputs": [],
   "source": [
    "secondPartDataFrame.insert(1, 'customer_emotions', emotions)"
   ]
  },
  {
   "cell_type": "code",
   "execution_count": null,
   "metadata": {},
   "outputs": [],
   "source": [
    "secondPartDataFrame.insert(2, 'customer_review_satisfaction_score', initialRating)"
   ]
  },
  {
   "cell_type": "code",
   "execution_count": null,
   "metadata": {},
   "outputs": [],
   "source": [
    "secondPartDataFrame.insert(3, 'customer_order_satisfaction_score', finalRating)"
   ]
  },
  {
   "cell_type": "code",
   "execution_count": null,
   "metadata": {},
   "outputs": [],
   "source": [
    "secondPartDataFrame.insert(4, 'seller_quality_score', sellersatisfactionScore)"
   ]
  },
  {
   "cell_type": "code",
   "execution_count": null,
   "metadata": {},
   "outputs": [],
   "source": [
    "secondPartDataFrame.head()"
   ]
  },
  {
   "cell_type": "code",
   "execution_count": null,
   "metadata": {},
   "outputs": [],
   "source": [
    "dataset2 = secondPartDataFrame\n",
    "dataset2.head()"
   ]
  },
  {
   "cell_type": "code",
   "execution_count": null,
   "metadata": {},
   "outputs": [],
   "source": [
    "dataset2.to_csv('New_seller_quality_scores.csv', encoding='utf-8', index=False)"
   ]
  },
  {
   "cell_type": "markdown",
   "metadata": {},
   "source": [
    "### Insert the dataset into DB2 on Cloud"
   ]
  },
  {
   "cell_type": "code",
   "execution_count": null,
   "metadata": {},
   "outputs": [],
   "source": [
    "dsn_driver = \"IBM DB2 ODBC DRIVER\"\n",
    "dsn_database = credentials_1['database'] \n",
    "dsn_hostname = credentials_1['host']\n",
    "dsn_port = \"50000\"                \n",
    "dsn_uid = credentials_1['username']      \n",
    "dsn_pwd = credentials_1['password']\n",
    "\n",
    "dsn = (My \n",
    "    \"DRIVER={{IBM DB2 ODBC DRIVER}};\"\n",
    "    \"DATABASE={0};\"\n",
    "    \"HOSTNAME={1};\"\n",
    "    \"PORT={2};\"\n",
    "    \"PROTOCOL=TCPIP;\"\n",
    "    \"UID={3};\"\n",
    "    \"PWD={4};\").format(dsn_database, dsn_hostname, dsn_port, dsn_uid, dsn_pwd)\n",
    "\n",
    "conn = ibm_db.connect(dsn, \"\", \"\")"
   ]
  },
  {
   "cell_type": "code",
   "execution_count": null,
   "metadata": {},
   "outputs": [],
   "source": [
    "create_statement = 'CREATE TABLE \"SELLERQUALITYSCORE\" (\\n\"product_ids\" VARCHAR,\\n \"customer_emotions\" VARCHAR,\\n  \"customer_review_satisfaction_score\" VARCHAR,\\n  \"customer_order_satisfaction_score\" VARCHAR,\\n  \"seller_quality_score\" VARCHAR\\n)'\n",
    "create_statement = create_statement.replace('VARCHAR', 'VARCHAR(256)')\n",
    "ibm_db.exec_immediate(conn, create_statement)"
   ]
  },
  {
   "cell_type": "code",
   "execution_count": null,
   "metadata": {},
   "outputs": [],
   "source": [
    "for index, row in dataset2.iterrows():\n",
    "\n",
    "    a ='\\''\n",
    "    product_ids = a+str(row['product_ids'])+a\n",
    "    customer_emotions = a+str(row['customer_emotions'])+a\n",
    "    customer_review_satisfaction_score = a+str(row['customer_review_satisfaction_score'])+a\n",
    "    customer_order_satisfaction_score = a+str(row['customer_order_satisfaction_score'])+a\n",
    "    seller_quality_score = a+str(row['seller_quality_score'])+a\n",
    "    \n",
    "    insert = 'INSERT INTO %s.SELLERQUALITYSCORE VALUES(%s, %s, %s, %s, %s)' %(dsn_uid, product_ids, customer_emotions, customer_review_satisfaction_score, customer_order_satisfaction_score, seller_quality_score)\n",
    "    ibm_db.exec_immediate(conn, insert)"
   ]
  }
 ],
 "metadata": {
  "kernelspec": {
   "display_name": "Python 3",
   "language": "python",
   "name": "python3"
  },
  "language_info": {
   "codemirror_mode": {
    "name": "ipython",
    "version": 3
   },
   "file_extension": ".py",
   "mimetype": "text/x-python",
   "name": "python",
   "nbconvert_exporter": "python",
   "pygments_lexer": "ipython3",
   "version": "3.6.5"
  }
 },
 "nbformat": 4,
 "nbformat_minor": 1
}
