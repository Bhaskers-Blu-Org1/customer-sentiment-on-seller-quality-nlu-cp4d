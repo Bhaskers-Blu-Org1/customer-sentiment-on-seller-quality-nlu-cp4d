{
    "cells": [
        {
            "cell_type": "markdown",
            "metadata": {},
            "source": "### Import Libraries"
        },
        {
            "cell_type": "code",
            "execution_count": null,
            "metadata": {},
            "outputs": [],
            "source": "!pip install ibm_watson"
        },
        {
            "cell_type": "code",
            "execution_count": null,
            "metadata": {},
            "outputs": [],
            "source": "!pip install pandas"
        },
        {
            "cell_type": "code",
            "execution_count": null,
            "metadata": {},
            "outputs": [],
            "source": "!pip install matplotlib"
        },
        {
            "cell_type": "code",
            "execution_count": null,
            "metadata": {},
            "outputs": [],
            "source": "!pip install langdetect"
        },
        {
            "cell_type": "code",
            "execution_count": null,
            "metadata": {},
            "outputs": [],
            "source": "!pip install ibm_db"
        },
        {
            "cell_type": "code",
            "execution_count": null,
            "metadata": {},
            "outputs": [],
            "source": "!pip install tqdm"
        },
        {
            "cell_type": "code",
            "execution_count": 1,
            "metadata": {},
            "outputs": [],
            "source": "import pandas as pd\nimport numpy\nimport matplotlib.pyplot as plt\nimport json\nfrom langdetect import detect\nimport dateutil.parser\nfrom tqdm import tqdm as tqdm\nimport ibm_db\nimport time\nimport multiprocessing"
        },
        {
            "cell_type": "markdown",
            "metadata": {},
            "source": "## Insert The Required Credentials Here"
        },
        {
            "cell_type": "markdown",
            "metadata": {},
            "source": "1. Insert Watson Natural Language Understanding API key and URL here"
        },
        {
            "cell_type": "code",
            "execution_count": 2,
            "metadata": {},
            "outputs": [],
            "source": "# The code was removed by Watson Studio for sharing."
        },
        {
            "cell_type": "markdown",
            "metadata": {},
            "source": "2. Insert credentials to load Customer Review Dataset here"
        },
        {
            "cell_type": "code",
            "execution_count": 3,
            "metadata": {},
            "outputs": [
                {
                    "data": {
                        "text/html": "<div>\n<style scoped>\n    .dataframe tbody tr th:only-of-type {\n        vertical-align: middle;\n    }\n\n    .dataframe tbody tr th {\n        vertical-align: top;\n    }\n\n    .dataframe thead th {\n        text-align: right;\n    }\n</style>\n<table border=\"1\" class=\"dataframe\">\n  <thead>\n    <tr style=\"text-align: right;\">\n      <th></th>\n      <th>id</th>\n      <th>dateAdded</th>\n      <th>dateUpdated</th>\n      <th>name</th>\n      <th>asins</th>\n      <th>brand</th>\n      <th>categories</th>\n      <th>primaryCategories</th>\n      <th>imageURLs</th>\n      <th>keys</th>\n      <th>...</th>\n      <th>reviews.didPurchase</th>\n      <th>reviews.doRecommend</th>\n      <th>reviews.id</th>\n      <th>reviews.numHelpful</th>\n      <th>reviews.rating</th>\n      <th>reviews.sourceURLs</th>\n      <th>reviews.text</th>\n      <th>reviews.title</th>\n      <th>reviews.username</th>\n      <th>sourceURLs</th>\n    </tr>\n  </thead>\n  <tbody>\n    <tr>\n      <th>0</th>\n      <td>AVpgNzjwLJeJML43Kpxn</td>\n      <td>2015-10-30T08:59:32Z</td>\n      <td>2019-04-25T09:08:16Z</td>\n      <td>AmazonBasics AAA Performance Alkaline Batterie...</td>\n      <td>B00QWO9P0O,B00LH3DMUO</td>\n      <td>Amazonbasics</td>\n      <td>AA,AAA,Health,Electronics,Health &amp; Household,C...</td>\n      <td>Health &amp; Beauty</td>\n      <td>https://images-na.ssl-images-amazon.com/images...</td>\n      <td>amazonbasics/hl002619,amazonbasicsaaaperforman...</td>\n      <td>...</td>\n      <td>NaN</td>\n      <td>NaN</td>\n      <td>NaN</td>\n      <td>NaN</td>\n      <td>3</td>\n      <td>https://www.amazon.com/product-reviews/B00QWO9...</td>\n      <td>I order 3 of them and one of the item is bad q...</td>\n      <td>... 3 of them and one of the item is bad quali...</td>\n      <td>Byger yang</td>\n      <td>https://www.barcodable.com/upc/841710106442,ht...</td>\n    </tr>\n    <tr>\n      <th>1</th>\n      <td>AVpgNzjwLJeJML43Kpxn</td>\n      <td>2015-10-30T08:59:32Z</td>\n      <td>2019-04-25T09:08:16Z</td>\n      <td>AmazonBasics AAA Performance Alkaline Batterie...</td>\n      <td>B00QWO9P0O,B00LH3DMUO</td>\n      <td>Amazonbasics</td>\n      <td>AA,AAA,Health,Electronics,Health &amp; Household,C...</td>\n      <td>Health &amp; Beauty</td>\n      <td>https://images-na.ssl-images-amazon.com/images...</td>\n      <td>amazonbasics/hl002619,amazonbasicsaaaperforman...</td>\n      <td>...</td>\n      <td>NaN</td>\n      <td>NaN</td>\n      <td>NaN</td>\n      <td>NaN</td>\n      <td>4</td>\n      <td>https://www.amazon.com/product-reviews/B00QWO9...</td>\n      <td>Bulk is always the less expensive way to go fo...</td>\n      <td>... always the less expensive way to go for pr...</td>\n      <td>ByMG</td>\n      <td>https://www.barcodable.com/upc/841710106442,ht...</td>\n    </tr>\n    <tr>\n      <th>2</th>\n      <td>AVpgNzjwLJeJML43Kpxn</td>\n      <td>2015-10-30T08:59:32Z</td>\n      <td>2019-04-25T09:08:16Z</td>\n      <td>AmazonBasics AAA Performance Alkaline Batterie...</td>\n      <td>B00QWO9P0O,B00LH3DMUO</td>\n      <td>Amazonbasics</td>\n      <td>AA,AAA,Health,Electronics,Health &amp; Household,C...</td>\n      <td>Health &amp; Beauty</td>\n      <td>https://images-na.ssl-images-amazon.com/images...</td>\n      <td>amazonbasics/hl002619,amazonbasicsaaaperforman...</td>\n      <td>...</td>\n      <td>NaN</td>\n      <td>NaN</td>\n      <td>NaN</td>\n      <td>NaN</td>\n      <td>5</td>\n      <td>https://www.amazon.com/product-reviews/B00QWO9...</td>\n      <td>Well they are not Duracell but for the price i...</td>\n      <td>... are not Duracell but for the price i am ha...</td>\n      <td>BySharon Lambert</td>\n      <td>https://www.barcodable.com/upc/841710106442,ht...</td>\n    </tr>\n    <tr>\n      <th>3</th>\n      <td>AVpgNzjwLJeJML43Kpxn</td>\n      <td>2015-10-30T08:59:32Z</td>\n      <td>2019-04-25T09:08:16Z</td>\n      <td>AmazonBasics AAA Performance Alkaline Batterie...</td>\n      <td>B00QWO9P0O,B00LH3DMUO</td>\n      <td>Amazonbasics</td>\n      <td>AA,AAA,Health,Electronics,Health &amp; Household,C...</td>\n      <td>Health &amp; Beauty</td>\n      <td>https://images-na.ssl-images-amazon.com/images...</td>\n      <td>amazonbasics/hl002619,amazonbasicsaaaperforman...</td>\n      <td>...</td>\n      <td>NaN</td>\n      <td>NaN</td>\n      <td>NaN</td>\n      <td>NaN</td>\n      <td>5</td>\n      <td>https://www.amazon.com/product-reviews/B00QWO9...</td>\n      <td>Seem to work as well as name brand batteries a...</td>\n      <td>... as well as name brand batteries at a much ...</td>\n      <td>Bymark sexson</td>\n      <td>https://www.barcodable.com/upc/841710106442,ht...</td>\n    </tr>\n    <tr>\n      <th>4</th>\n      <td>AVpgNzjwLJeJML43Kpxn</td>\n      <td>2015-10-30T08:59:32Z</td>\n      <td>2019-04-25T09:08:16Z</td>\n      <td>AmazonBasics AAA Performance Alkaline Batterie...</td>\n      <td>B00QWO9P0O,B00LH3DMUO</td>\n      <td>Amazonbasics</td>\n      <td>AA,AAA,Health,Electronics,Health &amp; Household,C...</td>\n      <td>Health &amp; Beauty</td>\n      <td>https://images-na.ssl-images-amazon.com/images...</td>\n      <td>amazonbasics/hl002619,amazonbasicsaaaperforman...</td>\n      <td>...</td>\n      <td>NaN</td>\n      <td>NaN</td>\n      <td>NaN</td>\n      <td>NaN</td>\n      <td>5</td>\n      <td>https://www.amazon.com/product-reviews/B00QWO9...</td>\n      <td>These batteries are very long lasting the pric...</td>\n      <td>... batteries are very long lasting the price ...</td>\n      <td>Bylinda</td>\n      <td>https://www.barcodable.com/upc/841710106442,ht...</td>\n    </tr>\n  </tbody>\n</table>\n<p>5 rows \u00d7 24 columns</p>\n</div>",
                        "text/plain": "                     id             dateAdded           dateUpdated  \\\n0  AVpgNzjwLJeJML43Kpxn  2015-10-30T08:59:32Z  2019-04-25T09:08:16Z   \n1  AVpgNzjwLJeJML43Kpxn  2015-10-30T08:59:32Z  2019-04-25T09:08:16Z   \n2  AVpgNzjwLJeJML43Kpxn  2015-10-30T08:59:32Z  2019-04-25T09:08:16Z   \n3  AVpgNzjwLJeJML43Kpxn  2015-10-30T08:59:32Z  2019-04-25T09:08:16Z   \n4  AVpgNzjwLJeJML43Kpxn  2015-10-30T08:59:32Z  2019-04-25T09:08:16Z   \n\n                                                name                  asins  \\\n0  AmazonBasics AAA Performance Alkaline Batterie...  B00QWO9P0O,B00LH3DMUO   \n1  AmazonBasics AAA Performance Alkaline Batterie...  B00QWO9P0O,B00LH3DMUO   \n2  AmazonBasics AAA Performance Alkaline Batterie...  B00QWO9P0O,B00LH3DMUO   \n3  AmazonBasics AAA Performance Alkaline Batterie...  B00QWO9P0O,B00LH3DMUO   \n4  AmazonBasics AAA Performance Alkaline Batterie...  B00QWO9P0O,B00LH3DMUO   \n\n          brand                                         categories  \\\n0  Amazonbasics  AA,AAA,Health,Electronics,Health & Household,C...   \n1  Amazonbasics  AA,AAA,Health,Electronics,Health & Household,C...   \n2  Amazonbasics  AA,AAA,Health,Electronics,Health & Household,C...   \n3  Amazonbasics  AA,AAA,Health,Electronics,Health & Household,C...   \n4  Amazonbasics  AA,AAA,Health,Electronics,Health & Household,C...   \n\n  primaryCategories                                          imageURLs  \\\n0   Health & Beauty  https://images-na.ssl-images-amazon.com/images...   \n1   Health & Beauty  https://images-na.ssl-images-amazon.com/images...   \n2   Health & Beauty  https://images-na.ssl-images-amazon.com/images...   \n3   Health & Beauty  https://images-na.ssl-images-amazon.com/images...   \n4   Health & Beauty  https://images-na.ssl-images-amazon.com/images...   \n\n                                                keys  ... reviews.didPurchase  \\\n0  amazonbasics/hl002619,amazonbasicsaaaperforman...  ...                 NaN   \n1  amazonbasics/hl002619,amazonbasicsaaaperforman...  ...                 NaN   \n2  amazonbasics/hl002619,amazonbasicsaaaperforman...  ...                 NaN   \n3  amazonbasics/hl002619,amazonbasicsaaaperforman...  ...                 NaN   \n4  amazonbasics/hl002619,amazonbasicsaaaperforman...  ...                 NaN   \n\n  reviews.doRecommend reviews.id reviews.numHelpful reviews.rating  \\\n0                 NaN        NaN                NaN              3   \n1                 NaN        NaN                NaN              4   \n2                 NaN        NaN                NaN              5   \n3                 NaN        NaN                NaN              5   \n4                 NaN        NaN                NaN              5   \n\n                                  reviews.sourceURLs  \\\n0  https://www.amazon.com/product-reviews/B00QWO9...   \n1  https://www.amazon.com/product-reviews/B00QWO9...   \n2  https://www.amazon.com/product-reviews/B00QWO9...   \n3  https://www.amazon.com/product-reviews/B00QWO9...   \n4  https://www.amazon.com/product-reviews/B00QWO9...   \n\n                                        reviews.text  \\\n0  I order 3 of them and one of the item is bad q...   \n1  Bulk is always the less expensive way to go fo...   \n2  Well they are not Duracell but for the price i...   \n3  Seem to work as well as name brand batteries a...   \n4  These batteries are very long lasting the pric...   \n\n                                       reviews.title  reviews.username  \\\n0  ... 3 of them and one of the item is bad quali...        Byger yang   \n1  ... always the less expensive way to go for pr...              ByMG   \n2  ... are not Duracell but for the price i am ha...  BySharon Lambert   \n3  ... as well as name brand batteries at a much ...     Bymark sexson   \n4  ... batteries are very long lasting the price ...           Bylinda   \n\n                                          sourceURLs  \n0  https://www.barcodable.com/upc/841710106442,ht...  \n1  https://www.barcodable.com/upc/841710106442,ht...  \n2  https://www.barcodable.com/upc/841710106442,ht...  \n3  https://www.barcodable.com/upc/841710106442,ht...  \n4  https://www.barcodable.com/upc/841710106442,ht...  \n\n[5 rows x 24 columns]"
                    },
                    "execution_count": 3,
                    "metadata": {},
                    "output_type": "execute_result"
                }
            ],
            "source": "# The code was removed by Watson Studio for sharing."
        },
        {
            "cell_type": "markdown",
            "metadata": {},
            "source": "3. Insert credentials to load Customer Order Details Dataset here"
        },
        {
            "cell_type": "code",
            "execution_count": 4,
            "metadata": {},
            "outputs": [
                {
                    "data": {
                        "text/html": "<div>\n<style scoped>\n    .dataframe tbody tr th:only-of-type {\n        vertical-align: middle;\n    }\n\n    .dataframe tbody tr th {\n        vertical-align: top;\n    }\n\n    .dataframe thead th {\n        text-align: right;\n    }\n</style>\n<table border=\"1\" class=\"dataframe\">\n  <thead>\n    <tr style=\"text-align: right;\">\n      <th></th>\n      <th>order_id</th>\n      <th>customer_id</th>\n      <th>order_status</th>\n      <th>order_purchase_timestamp</th>\n      <th>order_approved_at</th>\n      <th>order_delivered_carrier_date</th>\n      <th>order_delivered_customer_date</th>\n      <th>order_estimated_delivery_date</th>\n      <th>order_item_id</th>\n      <th>product_id</th>\n      <th>...</th>\n      <th>product_name_lenght</th>\n      <th>product_description_lenght</th>\n      <th>product_photos_qty</th>\n      <th>product_weight_g</th>\n      <th>product_length_cm</th>\n      <th>product_height_cm</th>\n      <th>product_width_cm</th>\n      <th>seller_zip_code_prefix</th>\n      <th>seller_city</th>\n      <th>seller_state</th>\n    </tr>\n  </thead>\n  <tbody>\n    <tr>\n      <th>0</th>\n      <td>94e050666a9b391d3aab71554fe12421</td>\n      <td>66631e40bb70105ec13118c26b650735</td>\n      <td>delivered</td>\n      <td>2017-04-26 14:54:02</td>\n      <td>2017-04-26 15:05:20</td>\n      <td>2017-05-02 11:27:33</td>\n      <td>2017-05-08 17:09:54</td>\n      <td>2017-05-16 00:00:00</td>\n      <td>1</td>\n      <td>f1d3e7a4605f6cd5f2a3cf9bde5c7845</td>\n      <td>...</td>\n      <td>40.0</td>\n      <td>565.0</td>\n      <td>3.0</td>\n      <td>1000.0</td>\n      <td>31.0</td>\n      <td>6.0</td>\n      <td>33.0</td>\n      <td>95913</td>\n      <td>lajeado</td>\n      <td>RS</td>\n    </tr>\n    <tr>\n      <th>1</th>\n      <td>531a321dff7247e76a5f6c2e702faa99</td>\n      <td>bedacf9e38540811c6f18eb143f9e27c</td>\n      <td>delivered</td>\n      <td>2017-06-01 16:05:29</td>\n      <td>2017-06-03 02:25:22</td>\n      <td>2017-06-08 08:07:51</td>\n      <td>2017-06-12 13:54:46</td>\n      <td>2017-06-23 00:00:00</td>\n      <td>1</td>\n      <td>f1d3e7a4605f6cd5f2a3cf9bde5c7845</td>\n      <td>...</td>\n      <td>40.0</td>\n      <td>565.0</td>\n      <td>3.0</td>\n      <td>1000.0</td>\n      <td>31.0</td>\n      <td>6.0</td>\n      <td>33.0</td>\n      <td>95913</td>\n      <td>lajeado</td>\n      <td>RS</td>\n    </tr>\n    <tr>\n      <th>2</th>\n      <td>4ceb680ca41b58487fec3e0f33c624ef</td>\n      <td>416b9ec8dfb172a88631c946b7f4ab85</td>\n      <td>delivered</td>\n      <td>2017-04-18 03:01:38</td>\n      <td>2017-04-18 03:15:06</td>\n      <td>2017-04-24 15:59:16</td>\n      <td>2017-05-03 11:37:45</td>\n      <td>2017-05-10 00:00:00</td>\n      <td>1</td>\n      <td>f1d3e7a4605f6cd5f2a3cf9bde5c7845</td>\n      <td>...</td>\n      <td>40.0</td>\n      <td>565.0</td>\n      <td>3.0</td>\n      <td>1000.0</td>\n      <td>31.0</td>\n      <td>6.0</td>\n      <td>33.0</td>\n      <td>95913</td>\n      <td>lajeado</td>\n      <td>RS</td>\n    </tr>\n    <tr>\n      <th>3</th>\n      <td>b6fa6ea37aeeb90c905eb2a488fc5dc5</td>\n      <td>e2dc0b0cef178179300195205e3788ef</td>\n      <td>delivered</td>\n      <td>2017-04-24 10:31:35</td>\n      <td>2017-04-25 08:02:25</td>\n      <td>2017-05-02 11:30:15</td>\n      <td>2017-05-22 16:07:20</td>\n      <td>2017-05-25 00:00:00</td>\n      <td>1</td>\n      <td>8a4505505378c8f5d983f3201e9c25da</td>\n      <td>...</td>\n      <td>47.0</td>\n      <td>1400.0</td>\n      <td>1.0</td>\n      <td>325.0</td>\n      <td>19.0</td>\n      <td>20.0</td>\n      <td>18.0</td>\n      <td>95913</td>\n      <td>lajeado</td>\n      <td>RS</td>\n    </tr>\n    <tr>\n      <th>4</th>\n      <td>2823b5160c0166f3c0d1ea00cc519c7e</td>\n      <td>e794bcee9c3289fb13024bef2f6599e0</td>\n      <td>delivered</td>\n      <td>2017-04-27 15:15:48</td>\n      <td>2017-04-27 15:30:14</td>\n      <td>2017-05-02 11:04:14</td>\n      <td>2017-05-09 10:04:02</td>\n      <td>2017-05-25 00:00:00</td>\n      <td>1</td>\n      <td>ff922797a6771cab4e0c51d482285ec3</td>\n      <td>...</td>\n      <td>37.0</td>\n      <td>537.0</td>\n      <td>3.0</td>\n      <td>1725.0</td>\n      <td>31.0</td>\n      <td>8.0</td>\n      <td>33.0</td>\n      <td>95913</td>\n      <td>lajeado</td>\n      <td>RS</td>\n    </tr>\n  </tbody>\n</table>\n<p>5 rows \u00d7 25 columns</p>\n</div>",
                        "text/plain": "                           order_id                       customer_id  \\\n0  94e050666a9b391d3aab71554fe12421  66631e40bb70105ec13118c26b650735   \n1  531a321dff7247e76a5f6c2e702faa99  bedacf9e38540811c6f18eb143f9e27c   \n2  4ceb680ca41b58487fec3e0f33c624ef  416b9ec8dfb172a88631c946b7f4ab85   \n3  b6fa6ea37aeeb90c905eb2a488fc5dc5  e2dc0b0cef178179300195205e3788ef   \n4  2823b5160c0166f3c0d1ea00cc519c7e  e794bcee9c3289fb13024bef2f6599e0   \n\n  order_status order_purchase_timestamp    order_approved_at  \\\n0    delivered      2017-04-26 14:54:02  2017-04-26 15:05:20   \n1    delivered      2017-06-01 16:05:29  2017-06-03 02:25:22   \n2    delivered      2017-04-18 03:01:38  2017-04-18 03:15:06   \n3    delivered      2017-04-24 10:31:35  2017-04-25 08:02:25   \n4    delivered      2017-04-27 15:15:48  2017-04-27 15:30:14   \n\n  order_delivered_carrier_date order_delivered_customer_date  \\\n0          2017-05-02 11:27:33           2017-05-08 17:09:54   \n1          2017-06-08 08:07:51           2017-06-12 13:54:46   \n2          2017-04-24 15:59:16           2017-05-03 11:37:45   \n3          2017-05-02 11:30:15           2017-05-22 16:07:20   \n4          2017-05-02 11:04:14           2017-05-09 10:04:02   \n\n  order_estimated_delivery_date  order_item_id  \\\n0           2017-05-16 00:00:00              1   \n1           2017-06-23 00:00:00              1   \n2           2017-05-10 00:00:00              1   \n3           2017-05-25 00:00:00              1   \n4           2017-05-25 00:00:00              1   \n\n                         product_id  ... product_name_lenght  \\\n0  f1d3e7a4605f6cd5f2a3cf9bde5c7845  ...                40.0   \n1  f1d3e7a4605f6cd5f2a3cf9bde5c7845  ...                40.0   \n2  f1d3e7a4605f6cd5f2a3cf9bde5c7845  ...                40.0   \n3  8a4505505378c8f5d983f3201e9c25da  ...                47.0   \n4  ff922797a6771cab4e0c51d482285ec3  ...                37.0   \n\n  product_description_lenght  product_photos_qty  product_weight_g  \\\n0                      565.0                 3.0            1000.0   \n1                      565.0                 3.0            1000.0   \n2                      565.0                 3.0            1000.0   \n3                     1400.0                 1.0             325.0   \n4                      537.0                 3.0            1725.0   \n\n  product_length_cm  product_height_cm  product_width_cm  \\\n0              31.0                6.0              33.0   \n1              31.0                6.0              33.0   \n2              31.0                6.0              33.0   \n3              19.0               20.0              18.0   \n4              31.0                8.0              33.0   \n\n   seller_zip_code_prefix  seller_city  seller_state  \n0                   95913      lajeado            RS  \n1                   95913      lajeado            RS  \n2                   95913      lajeado            RS  \n3                   95913      lajeado            RS  \n4                   95913      lajeado            RS  \n\n[5 rows x 25 columns]"
                    },
                    "execution_count": 4,
                    "metadata": {},
                    "output_type": "execute_result"
                }
            ],
            "source": "# The code was removed by Watson Studio for sharing."
        },
        {
            "cell_type": "markdown",
            "metadata": {},
            "source": "4. Insert Db2 Connection Credentials here"
        },
        {
            "cell_type": "code",
            "execution_count": 5,
            "metadata": {},
            "outputs": [],
            "source": "# The code was removed by Watson Studio for sharing."
        },
        {
            "cell_type": "markdown",
            "metadata": {},
            "source": "## Setup Watson NLU"
        },
        {
            "cell_type": "code",
            "execution_count": 6,
            "metadata": {},
            "outputs": [],
            "source": "from ibm_watson import NaturalLanguageUnderstandingV1\nfrom ibm_watson.natural_language_understanding_v1 \\\n    import Features, EntitiesOptions, KeywordsOptions, SyntaxOptions, SyntaxOptionsTokens\nfrom ibm_cloud_sdk_core.authenticators import IAMAuthenticator"
        },
        {
            "cell_type": "code",
            "execution_count": 7,
            "metadata": {},
            "outputs": [],
            "source": "authenticator = IAMAuthenticator(watson_nlu_api_key)\nnatural_language_understanding = NaturalLanguageUnderstandingV1(\n    version='2019-07-12',\n    authenticator=authenticator\n)"
        },
        {
            "cell_type": "code",
            "execution_count": 8,
            "metadata": {},
            "outputs": [],
            "source": "natural_language_understanding.set_service_url(watson_nlu_url)"
        },
        {
            "cell_type": "markdown",
            "metadata": {},
            "source": "### Summarize the data"
        },
        {
            "cell_type": "code",
            "execution_count": 9,
            "metadata": {},
            "outputs": [
                {
                    "data": {
                        "text/plain": "(28332, 24)"
                    },
                    "execution_count": 9,
                    "metadata": {},
                    "output_type": "execute_result"
                }
            ],
            "source": "data.shape"
        },
        {
            "cell_type": "code",
            "execution_count": 10,
            "metadata": {},
            "outputs": [
                {
                    "data": {
                        "text/html": "<div>\n<style scoped>\n    .dataframe tbody tr th:only-of-type {\n        vertical-align: middle;\n    }\n\n    .dataframe tbody tr th {\n        vertical-align: top;\n    }\n\n    .dataframe thead th {\n        text-align: right;\n    }\n</style>\n<table border=\"1\" class=\"dataframe\">\n  <thead>\n    <tr style=\"text-align: right;\">\n      <th></th>\n      <th>reviews.id</th>\n      <th>reviews.numHelpful</th>\n      <th>reviews.rating</th>\n    </tr>\n  </thead>\n  <tbody>\n    <tr>\n      <th>count</th>\n      <td>4.100000e+01</td>\n      <td>16115.000000</td>\n      <td>28332.000000</td>\n    </tr>\n    <tr>\n      <th>mean</th>\n      <td>1.840066e+08</td>\n      <td>0.529321</td>\n      <td>4.514048</td>\n    </tr>\n    <tr>\n      <th>std</th>\n      <td>2.337036e+07</td>\n      <td>9.345017</td>\n      <td>0.934957</td>\n    </tr>\n    <tr>\n      <th>min</th>\n      <td>1.116244e+08</td>\n      <td>0.000000</td>\n      <td>1.000000</td>\n    </tr>\n    <tr>\n      <th>25%</th>\n      <td>1.843344e+08</td>\n      <td>0.000000</td>\n      <td>4.000000</td>\n    </tr>\n    <tr>\n      <th>50%</th>\n      <td>1.885078e+08</td>\n      <td>0.000000</td>\n      <td>5.000000</td>\n    </tr>\n    <tr>\n      <th>75%</th>\n      <td>1.988160e+08</td>\n      <td>0.000000</td>\n      <td>5.000000</td>\n    </tr>\n    <tr>\n      <th>max</th>\n      <td>2.085304e+08</td>\n      <td>621.000000</td>\n      <td>5.000000</td>\n    </tr>\n  </tbody>\n</table>\n</div>",
                        "text/plain": "         reviews.id  reviews.numHelpful  reviews.rating\ncount  4.100000e+01        16115.000000    28332.000000\nmean   1.840066e+08            0.529321        4.514048\nstd    2.337036e+07            9.345017        0.934957\nmin    1.116244e+08            0.000000        1.000000\n25%    1.843344e+08            0.000000        4.000000\n50%    1.885078e+08            0.000000        5.000000\n75%    1.988160e+08            0.000000        5.000000\nmax    2.085304e+08          621.000000        5.000000"
                    },
                    "execution_count": 10,
                    "metadata": {},
                    "output_type": "execute_result"
                }
            ],
            "source": "data.describe()"
        },
        {
            "cell_type": "markdown",
            "metadata": {},
            "source": "#### There are 65 different Customers"
        },
        {
            "cell_type": "code",
            "execution_count": 11,
            "metadata": {},
            "outputs": [
                {
                    "data": {
                        "text/plain": "65"
                    },
                    "execution_count": 11,
                    "metadata": {},
                    "output_type": "execute_result"
                }
            ],
            "source": "uniqueCustomers = data['id'].unique()\nlen(uniqueCustomers)"
        },
        {
            "cell_type": "markdown",
            "metadata": {},
            "source": "#### We select five product review"
        },
        {
            "cell_type": "code",
            "execution_count": 12,
            "metadata": {},
            "outputs": [],
            "source": "productIds = ['AVpgNzjwLJeJML43Kpxn', 'AVpfpK8KLJeJML43BCuD', 'AVzYlGkFvKc47QAVeZRI', 'AVqkIhxunnc1JgDc3kg_', 'AVpgdkC8ilAPnD_xsvyi']\n\nfor prodId in productIds:\n    reviewBySingleCustomer = data.loc[data['id'] == prodId]\n    \n    if productIds.index(prodId) == 0:\n        productId1 = reviewBySingleCustomer[:527]\n    elif productIds.index(prodId) == 1:\n        productId2 = reviewBySingleCustomer[:392]\n    elif productIds.index(prodId) == 2:\n        productId3 = reviewBySingleCustomer[:388]\n    elif productIds.index(prodId) == 3:\n        productId4 = reviewBySingleCustomer[:488]\n    elif productIds.index(prodId) == 4:\n        productId5 = reviewBySingleCustomer[:484]\n\nuniqueProductReviews = pd.concat([productId1, productId2, productId3, productId4, productId5])\n\n"
        },
        {
            "cell_type": "markdown",
            "metadata": {},
            "source": "#### The customer reviews  for five products"
        },
        {
            "cell_type": "code",
            "execution_count": 13,
            "metadata": {},
            "outputs": [],
            "source": "columnsToDrop = ['dateAdded', 'dateUpdated', 'asins', 'brand',\n                 'categories', 'primaryCategories', 'imageURLs', 'keys', 'manufacturer',\n                 'manufacturerNumber', 'reviews.date', 'reviews.dateSeen',\n                 'reviews.didPurchase', 'reviews.doRecommend', 'reviews.id',\n                 'reviews.numHelpful', 'reviews.rating', 'reviews.sourceURLs', \n                 'reviews.title', 'reviews.username', 'sourceURLs']\nuniqueProductReviews['name'].value_counts().astype('int32')\nuniqueProductReviews.drop(columnsToDrop, axis = 1,inplace=True)"
        },
        {
            "cell_type": "code",
            "execution_count": 14,
            "metadata": {},
            "outputs": [
                {
                    "data": {
                        "text/plain": "array(['AmazonBasics AAA Performance Alkaline Batteries (36 Count)',\n       'Amazon Tap Smart Assistant Alexaenabled (black) Brand New',\n       'All-New Fire HD 8 Tablet with Alexa, 8 HD Display, 16 GB, Marine Blue - with Special Offers',\n       'Fire HD 8 Tablet with Alexa, 8 HD Display, 16 GB, Tangerine - with Special Offers',\n       'Fire Tablet, 7 Display, Wi-Fi, 16 GB - Includes Special Offers, Black'],\n      dtype=object)"
                    },
                    "execution_count": 14,
                    "metadata": {},
                    "output_type": "execute_result"
                }
            ],
            "source": "uniqueProductReviews['name'].unique()"
        },
        {
            "cell_type": "markdown",
            "metadata": {},
            "source": "#### The 5 Selected Products are :\n    - AmazonBasics AAA Performance Alkaline Batteries (36 Count)\n    - Fire HD 8 Tablet with Alexa, 8 HD Display, 16 GB, Tangerine - with Special Offers\n    - Fire Tablet, 7 Display, Wi-Fi, 16 GB - Includes Special Offers, Black\n    - Amazon Tap Smart Assistant Alexaenabled (black) Brand New\n    - All-New Fire HD 8 Tablet with Alexa, 8 HD Display, 16 GB, Marine Blue - with Special Offers\n    \n#### For the sake of easy understanding we rename the products as:\n    - Batteries\n    - Alexa\n    - Tablet 8in\n    - Fire HD\n    - Kindle"
        },
        {
            "cell_type": "code",
            "execution_count": 15,
            "metadata": {},
            "outputs": [],
            "source": "uniqueProductReviews['name'].replace(to_replace=['AmazonBasics AAA Performance Alkaline Batteries (36 Count)',\n                                                  'Amazon Tap Smart Assistant Alexaenabled (black) Brand New',\n                                                  'All-New Fire HD 8 Tablet with Alexa, 8 HD Display, 16 GB, Marine Blue - with Special Offers',\n                                                  'Fire HD 8 Tablet with Alexa, 8 HD Display, 16 GB, Tangerine - with Special Offers',\n                                                  'Fire Tablet, 7 Display, Wi-Fi, 16 GB - Includes Special Offers, Black'], value=['Batteries', 'Alexa','Tablet 8in', 'Fire HD', 'Kindle'], inplace=True)"
        },
        {
            "cell_type": "code",
            "execution_count": 16,
            "metadata": {},
            "outputs": [
                {
                    "data": {
                        "text/plain": "(2279, 3)"
                    },
                    "execution_count": 16,
                    "metadata": {},
                    "output_type": "execute_result"
                }
            ],
            "source": "uniqueProductReviews.shape"
        },
        {
            "cell_type": "code",
            "execution_count": 17,
            "metadata": {},
            "outputs": [
                {
                    "data": {
                        "text/plain": "array(['Batteries', 'Alexa', 'Tablet 8in', 'Fire HD', 'Kindle'],\n      dtype=object)"
                    },
                    "execution_count": 17,
                    "metadata": {},
                    "output_type": "execute_result"
                }
            ],
            "source": "uniqueProductReviews['name'].unique()"
        },
        {
            "cell_type": "markdown",
            "metadata": {},
            "source": "### We then Pass the reviews from dataset one by one to get sentiments and emotions"
        },
        {
            "cell_type": "code",
            "execution_count": 18,
            "metadata": {},
            "outputs": [],
            "source": "sellerScores = []\nemotionScores = []\ndef customerSatisfactionAlgorithm(texts):\n    # Check if the Language is English or not\n\n    try:\n        language = detect(texts)\n    except:\n        return\n        \n    if language != 'en':\n        return\n    \n    # Check if the word length is more than 5\n    \n    wordLength = len(texts.split()) \n    \n    if int(wordLength) < 5:\n        return\n        \n    # Feed the text to NLU and get the Sentiment and Emotions\n    \n    response = natural_language_understanding.analyze(\n        text=texts,\n        features=Features(keywords=KeywordsOptions(sentiment=True,emotion=True,limit=2))).get_result()\n    jsonResponse = json.dumps(response, indent=2)\n    \n    X = json.loads(jsonResponse)\n    \n    if not X[\"keywords\"]:\n        return\n       \n    sentiment = X[\"keywords\"][0][\"sentiment\"]\n    if sentiment['score'] < 0:\n        sentiment['score'] = 1 + sentiment['score']\n    sentimentScore = sentiment['score']\n\n    emotion = X[\"keywords\"][0][\"emotion\"]\n    emotions = [emotion[\"sadness\"], emotion[\"joy\"], emotion[\"fear\"], emotion[\"disgust\"], emotion[\"anger\"]]\n\n    j = 0\n    position = 0\n    emo = ''\n    for i in emotions:\n        if i > j:\n            j = i\n            index = position\n        position += 1\n\n    if index == 0:\n        emo = 'sad'\n    if index == 1:\n        emo = 'joy'\n    if index == 2:\n        emo = 'fear'\n    if index == 3:\n        emo = 'disgust'\n    if index == 4:\n        emo = 'anger'\n\n    emotionScore = j\n\n    AveragedSum = (sentimentScore + emotionScore) / 2\n\n    sellerScores.append(AveragedSum)\n    emotionScores.append(emo)"
        },
        {
            "cell_type": "code",
            "execution_count": 19,
            "metadata": {},
            "outputs": [
                {
                    "name": "stderr",
                    "output_type": "stream",
                    "text": "100%|\u2588\u2588\u2588\u2588\u2588\u2588\u2588\u2588\u2588\u2588| 2279/2279 [18:11<00:00,  2.15it/s]"
                },
                {
                    "name": "stdout",
                    "output_type": "stream",
                    "text": "Time Take to Complete:  18.18737688859304\n"
                },
                {
                    "name": "stderr",
                    "output_type": "stream",
                    "text": "\n"
                }
            ],
            "source": "processes = []\nstarttime = time.time()\n\nfor texts in tqdm(uniqueProductReviews['reviews.text']):\n    customerSatisfactionAlgorithm(texts)\n#     p = multiprocessing.Process(target=customerSatisfactionAlgorithm, args=(texts,))\n#     processes.append(p)\n#     p.start()\n    \n# for process in processes:\n#     process.join()\n        \ntimetaken = time.time() - starttime\nprint(\"Time Taken to Complete: \",(timetaken/60), \" Sec\")"
        },
        {
            "cell_type": "code",
            "execution_count": 20,
            "metadata": {},
            "outputs": [
                {
                    "name": "stdout",
                    "output_type": "stream",
                    "text": "2179  -  2279  =  -100\n"
                }
            ],
            "source": "totalrowsToDelete = len(sellerScores) - len(uniqueProductReviews['id'])\nprint (len(sellerScores), ' - ', len(uniqueProductReviews['id']), ' = ', totalrowsToDelete)"
        },
        {
            "cell_type": "code",
            "execution_count": 21,
            "metadata": {},
            "outputs": [],
            "source": "uniqueProductReviews = uniqueProductReviews[:totalrowsToDelete]"
        },
        {
            "cell_type": "markdown",
            "metadata": {},
            "source": "### We create the first dataset for our use, that is Seller Satisfaction Scores based on Customer Reviews."
        },
        {
            "cell_type": "code",
            "execution_count": 79,
            "metadata": {},
            "outputs": [],
            "source": "sellerScoreDf = pd.DataFrame()"
        },
        {
            "cell_type": "code",
            "execution_count": 80,
            "metadata": {},
            "outputs": [],
            "source": "sellerScoreDf['product_id'] = uniqueProductReviews['id']\nsellerScoreDf['product_name'] = uniqueProductReviews['name']\nsellerScoreDf['customer_emotion'] = emotionScores\nsellerScoreDf['customer_satisfaction_based_on_reviews'] = sellerScores"
        },
        {
            "cell_type": "code",
            "execution_count": 81,
            "metadata": {},
            "outputs": [
                {
                    "data": {
                        "text/html": "<div>\n<style scoped>\n    .dataframe tbody tr th:only-of-type {\n        vertical-align: middle;\n    }\n\n    .dataframe tbody tr th {\n        vertical-align: top;\n    }\n\n    .dataframe thead th {\n        text-align: right;\n    }\n</style>\n<table border=\"1\" class=\"dataframe\">\n  <thead>\n    <tr style=\"text-align: right;\">\n      <th></th>\n      <th>product_id</th>\n      <th>product_name</th>\n      <th>customer_emotion</th>\n      <th>customer_satisfaction_based_on_reviews</th>\n    </tr>\n  </thead>\n  <tbody>\n    <tr>\n      <th>0</th>\n      <td>AVpgNzjwLJeJML43Kpxn</td>\n      <td>Batteries</td>\n      <td>sad</td>\n      <td>0.413780</td>\n    </tr>\n    <tr>\n      <th>1</th>\n      <td>AVpgNzjwLJeJML43Kpxn</td>\n      <td>Batteries</td>\n      <td>sad</td>\n      <td>0.494734</td>\n    </tr>\n    <tr>\n      <th>2</th>\n      <td>AVpgNzjwLJeJML43Kpxn</td>\n      <td>Batteries</td>\n      <td>joy</td>\n      <td>0.887298</td>\n    </tr>\n    <tr>\n      <th>3</th>\n      <td>AVpgNzjwLJeJML43Kpxn</td>\n      <td>Batteries</td>\n      <td>joy</td>\n      <td>0.253661</td>\n    </tr>\n    <tr>\n      <th>4</th>\n      <td>AVpgNzjwLJeJML43Kpxn</td>\n      <td>Batteries</td>\n      <td>joy</td>\n      <td>0.617884</td>\n    </tr>\n  </tbody>\n</table>\n</div>",
                        "text/plain": "             product_id product_name customer_emotion  \\\n0  AVpgNzjwLJeJML43Kpxn    Batteries              sad   \n1  AVpgNzjwLJeJML43Kpxn    Batteries              sad   \n2  AVpgNzjwLJeJML43Kpxn    Batteries              joy   \n3  AVpgNzjwLJeJML43Kpxn    Batteries              joy   \n4  AVpgNzjwLJeJML43Kpxn    Batteries              joy   \n\n   customer_satisfaction_based_on_reviews  \n0                                0.413780  \n1                                0.494734  \n2                                0.887298  \n3                                0.253661  \n4                                0.617884  "
                    },
                    "execution_count": 81,
                    "metadata": {},
                    "output_type": "execute_result"
                }
            ],
            "source": "sellerScoreDf.head()"
        },
        {
            "cell_type": "markdown",
            "metadata": {},
            "source": "### Rate the seller between 1 to 4\n\n##### We Split 3 based on 25% , 50% and 75% "
        },
        {
            "cell_type": "code",
            "execution_count": 83,
            "metadata": {},
            "outputs": [
                {
                    "data": {
                        "text/html": "<div>\n<style scoped>\n    .dataframe tbody tr th:only-of-type {\n        vertical-align: middle;\n    }\n\n    .dataframe tbody tr th {\n        vertical-align: top;\n    }\n\n    .dataframe thead th {\n        text-align: right;\n    }\n</style>\n<table border=\"1\" class=\"dataframe\">\n  <thead>\n    <tr style=\"text-align: right;\">\n      <th></th>\n      <th>customer_satisfaction_based_on_reviews</th>\n    </tr>\n  </thead>\n  <tbody>\n    <tr>\n      <th>count</th>\n      <td>2179.000000</td>\n    </tr>\n    <tr>\n      <th>mean</th>\n      <td>0.596844</td>\n    </tr>\n    <tr>\n      <th>std</th>\n      <td>0.263520</td>\n    </tr>\n    <tr>\n      <th>min</th>\n      <td>0.022058</td>\n    </tr>\n    <tr>\n      <th>25%</th>\n      <td>0.383443</td>\n    </tr>\n    <tr>\n      <th>50%</th>\n      <td>0.655776</td>\n    </tr>\n    <tr>\n      <th>75%</th>\n      <td>0.828976</td>\n    </tr>\n    <tr>\n      <th>max</th>\n      <td>0.991763</td>\n    </tr>\n  </tbody>\n</table>\n</div>",
                        "text/plain": "       customer_satisfaction_based_on_reviews\ncount                             2179.000000\nmean                                 0.596844\nstd                                  0.263520\nmin                                  0.022058\n25%                                  0.383443\n50%                                  0.655776\n75%                                  0.828976\nmax                                  0.991763"
                    },
                    "execution_count": 83,
                    "metadata": {},
                    "output_type": "execute_result"
                }
            ],
            "source": "sellerScoreDf.describe()"
        },
        {
            "cell_type": "code",
            "execution_count": 84,
            "metadata": {},
            "outputs": [],
            "source": "minimum = sellerScoreDf['customer_satisfaction_based_on_reviews'].min()\nmaximum = sellerScoreDf['customer_satisfaction_based_on_reviews'].max()\nq1 = sellerScoreDf['customer_satisfaction_based_on_reviews'].quantile(.25)\nq2 = sellerScoreDf['customer_satisfaction_based_on_reviews'].quantile(.5)\nq3 = sellerScoreDf['customer_satisfaction_based_on_reviews'].quantile(.75)\n\nfor individualScore in sellerScoreDf['customer_satisfaction_based_on_reviews']:\n    \n    if individualScore >= minimum and individualScore <= q1:\n        sellerScoreDf['customer_satisfaction_based_on_reviews'].replace(\n            to_replace=[individualScore], value=[1], inplace=True)\n    \n    if individualScore > q1 and individualScore <= q2:\n        sellerScoreDf['customer_satisfaction_based_on_reviews'].replace(\n            to_replace=[individualScore], value=[1], inplace=True)\n    \n    if individualScore > q2 and individualScore <= q3:\n        sellerScoreDf['customer_satisfaction_based_on_reviews'].replace(\n            to_replace=[individualScore], value=[2], inplace=True)\n    \n    if individualScore > q3 and individualScore <= maximum:\n        sellerScoreDf['customer_satisfaction_based_on_reviews'].replace(\n            to_replace=[individualScore], value=[3], inplace=True)"
        },
        {
            "cell_type": "code",
            "execution_count": 85,
            "metadata": {},
            "outputs": [],
            "source": "sellerScoreDf['customer_satisfaction_based_on_reviews'] = sellerScoreDf['customer_satisfaction_based_on_reviews'].astype('int32')"
        },
        {
            "cell_type": "code",
            "execution_count": 86,
            "metadata": {},
            "outputs": [
                {
                    "data": {
                        "text/html": "<div>\n<style scoped>\n    .dataframe tbody tr th:only-of-type {\n        vertical-align: middle;\n    }\n\n    .dataframe tbody tr th {\n        vertical-align: top;\n    }\n\n    .dataframe thead th {\n        text-align: right;\n    }\n</style>\n<table border=\"1\" class=\"dataframe\">\n  <thead>\n    <tr style=\"text-align: right;\">\n      <th></th>\n      <th>product_id</th>\n      <th>product_name</th>\n      <th>customer_emotion</th>\n      <th>customer_satisfaction_based_on_reviews</th>\n    </tr>\n  </thead>\n  <tbody>\n    <tr>\n      <th>0</th>\n      <td>AVpgNzjwLJeJML43Kpxn</td>\n      <td>Batteries</td>\n      <td>sad</td>\n      <td>1</td>\n    </tr>\n    <tr>\n      <th>1</th>\n      <td>AVpgNzjwLJeJML43Kpxn</td>\n      <td>Batteries</td>\n      <td>sad</td>\n      <td>1</td>\n    </tr>\n    <tr>\n      <th>2</th>\n      <td>AVpgNzjwLJeJML43Kpxn</td>\n      <td>Batteries</td>\n      <td>joy</td>\n      <td>3</td>\n    </tr>\n    <tr>\n      <th>3</th>\n      <td>AVpgNzjwLJeJML43Kpxn</td>\n      <td>Batteries</td>\n      <td>joy</td>\n      <td>1</td>\n    </tr>\n    <tr>\n      <th>4</th>\n      <td>AVpgNzjwLJeJML43Kpxn</td>\n      <td>Batteries</td>\n      <td>joy</td>\n      <td>1</td>\n    </tr>\n  </tbody>\n</table>\n</div>",
                        "text/plain": "             product_id product_name customer_emotion  \\\n0  AVpgNzjwLJeJML43Kpxn    Batteries              sad   \n1  AVpgNzjwLJeJML43Kpxn    Batteries              sad   \n2  AVpgNzjwLJeJML43Kpxn    Batteries              joy   \n3  AVpgNzjwLJeJML43Kpxn    Batteries              joy   \n4  AVpgNzjwLJeJML43Kpxn    Batteries              joy   \n\n   customer_satisfaction_based_on_reviews  \n0                                       1  \n1                                       1  \n2                                       3  \n3                                       1  \n4                                       1  "
                    },
                    "execution_count": 86,
                    "metadata": {},
                    "output_type": "execute_result"
                }
            ],
            "source": "dataset1 = sellerScoreDf\ndataset1.head()"
        },
        {
            "cell_type": "code",
            "execution_count": 87,
            "metadata": {},
            "outputs": [
                {
                    "data": {
                        "text/plain": "(2179, 4)"
                    },
                    "execution_count": 87,
                    "metadata": {},
                    "output_type": "execute_result"
                }
            ],
            "source": "dataset1.shape"
        },
        {
            "cell_type": "code",
            "execution_count": 88,
            "metadata": {},
            "outputs": [],
            "source": "dataset1.to_csv('customer_satisfaction_based_on_reviews.csv', encoding='utf-8', index=False)"
        },
        {
            "cell_type": "code",
            "execution_count": 89,
            "metadata": {},
            "outputs": [],
            "source": "sellerScoreDf = pd.read_csv('customer_satisfaction_based_on_reviews.csv')"
        },
        {
            "cell_type": "code",
            "execution_count": 90,
            "metadata": {},
            "outputs": [],
            "source": "Measurables = pd.DataFrame()\nMeasurables['unique_product_name'] = sellerScoreDf['product_name'].unique()\n\nx = [i for i in sellerScoreDf['product_name'].unique()]\nlabelX = ['0', '1', '2', '3', '4']\ny = []\nfor product in x:\n    TEMP = sellerScoreDf.loc[sellerScoreDf['product_name'] == product]\n    y.append(TEMP['customer_satisfaction_based_on_reviews'].mean())\n\nMeasurables['rating_average'] = y"
        },
        {
            "cell_type": "markdown",
            "metadata": {},
            "source": "### We Can Visualize the dataset"
        },
        {
            "cell_type": "code",
            "execution_count": 91,
            "metadata": {},
            "outputs": [
                {
                    "data": {
                        "image/png": "[encoded data removed]",
                        "text/plain": "<Figure size 432x288 with 1 Axes>"
                    },
                    "metadata": {
                        "needs_background": "light"
                    },
                    "output_type": "display_data"
                }
            ],
            "source": "plt.bar(labelX, y, align='center', alpha=0.5)\nplt.ylabel('Ratings')\nplt.xlabel('Products')\nplt.title('Products vs Ratings')\n\nplt.show()"
        },
        {
            "cell_type": "code",
            "execution_count": 92,
            "metadata": {},
            "outputs": [
                {
                    "data": {
                        "text/html": "<div>\n<style scoped>\n    .dataframe tbody tr th:only-of-type {\n        vertical-align: middle;\n    }\n\n    .dataframe tbody tr th {\n        vertical-align: top;\n    }\n\n    .dataframe thead th {\n        text-align: right;\n    }\n</style>\n<table border=\"1\" class=\"dataframe\">\n  <thead>\n    <tr style=\"text-align: right;\">\n      <th></th>\n      <th>unique_product_name</th>\n      <th>rating_average</th>\n    </tr>\n  </thead>\n  <tbody>\n    <tr>\n      <th>0</th>\n      <td>Batteries</td>\n      <td>1.586338</td>\n    </tr>\n    <tr>\n      <th>1</th>\n      <td>Alexa</td>\n      <td>1.885204</td>\n    </tr>\n    <tr>\n      <th>2</th>\n      <td>Tablet 8in</td>\n      <td>1.788660</td>\n    </tr>\n    <tr>\n      <th>3</th>\n      <td>Fire HD</td>\n      <td>1.735656</td>\n    </tr>\n    <tr>\n      <th>4</th>\n      <td>Kindle</td>\n      <td>1.815104</td>\n    </tr>\n  </tbody>\n</table>\n</div>",
                        "text/plain": "  unique_product_name  rating_average\n0           Batteries        1.586338\n1               Alexa        1.885204\n2          Tablet 8in        1.788660\n3             Fire HD        1.735656\n4              Kindle        1.815104"
                    },
                    "execution_count": 92,
                    "metadata": {},
                    "output_type": "execute_result"
                }
            ],
            "source": "Measurables"
        },
        {
            "cell_type": "markdown",
            "metadata": {},
            "source": "### Import Dataset\n\n2. Customer orders Dataset"
        },
        {
            "cell_type": "code",
            "execution_count": 93,
            "metadata": {},
            "outputs": [
                {
                    "data": {
                        "text/html": "<div>\n<style scoped>\n    .dataframe tbody tr th:only-of-type {\n        vertical-align: middle;\n    }\n\n    .dataframe tbody tr th {\n        vertical-align: top;\n    }\n\n    .dataframe thead th {\n        text-align: right;\n    }\n</style>\n<table border=\"1\" class=\"dataframe\">\n  <thead>\n    <tr style=\"text-align: right;\">\n      <th></th>\n      <th>order_id</th>\n      <th>product_id</th>\n      <th>seller_id</th>\n      <th>order_status</th>\n      <th>order_estimated_delivery_date</th>\n      <th>order_delivered_customer_date</th>\n    </tr>\n  </thead>\n  <tbody>\n    <tr>\n      <th>0</th>\n      <td>94e050666a9b391d3aab71554fe12421</td>\n      <td>f1d3e7a4605f6cd5f2a3cf9bde5c7845</td>\n      <td>062ce95fa2ad4dfaedfc79260130565f</td>\n      <td>delivered</td>\n      <td>2017-05-16 00:00:00</td>\n      <td>2017-05-08 17:09:54</td>\n    </tr>\n    <tr>\n      <th>1</th>\n      <td>531a321dff7247e76a5f6c2e702faa99</td>\n      <td>f1d3e7a4605f6cd5f2a3cf9bde5c7845</td>\n      <td>062ce95fa2ad4dfaedfc79260130565f</td>\n      <td>delivered</td>\n      <td>2017-06-23 00:00:00</td>\n      <td>2017-06-12 13:54:46</td>\n    </tr>\n    <tr>\n      <th>2</th>\n      <td>4ceb680ca41b58487fec3e0f33c624ef</td>\n      <td>f1d3e7a4605f6cd5f2a3cf9bde5c7845</td>\n      <td>062ce95fa2ad4dfaedfc79260130565f</td>\n      <td>delivered</td>\n      <td>2017-05-10 00:00:00</td>\n      <td>2017-05-03 11:37:45</td>\n    </tr>\n    <tr>\n      <th>3</th>\n      <td>b6fa6ea37aeeb90c905eb2a488fc5dc5</td>\n      <td>8a4505505378c8f5d983f3201e9c25da</td>\n      <td>062ce95fa2ad4dfaedfc79260130565f</td>\n      <td>delivered</td>\n      <td>2017-05-25 00:00:00</td>\n      <td>2017-05-22 16:07:20</td>\n    </tr>\n    <tr>\n      <th>4</th>\n      <td>2823b5160c0166f3c0d1ea00cc519c7e</td>\n      <td>ff922797a6771cab4e0c51d482285ec3</td>\n      <td>062ce95fa2ad4dfaedfc79260130565f</td>\n      <td>delivered</td>\n      <td>2017-05-25 00:00:00</td>\n      <td>2017-05-09 10:04:02</td>\n    </tr>\n  </tbody>\n</table>\n</div>",
                        "text/plain": "                           order_id                        product_id  \\\n0  94e050666a9b391d3aab71554fe12421  f1d3e7a4605f6cd5f2a3cf9bde5c7845   \n1  531a321dff7247e76a5f6c2e702faa99  f1d3e7a4605f6cd5f2a3cf9bde5c7845   \n2  4ceb680ca41b58487fec3e0f33c624ef  f1d3e7a4605f6cd5f2a3cf9bde5c7845   \n3  b6fa6ea37aeeb90c905eb2a488fc5dc5  8a4505505378c8f5d983f3201e9c25da   \n4  2823b5160c0166f3c0d1ea00cc519c7e  ff922797a6771cab4e0c51d482285ec3   \n\n                          seller_id order_status  \\\n0  062ce95fa2ad4dfaedfc79260130565f    delivered   \n1  062ce95fa2ad4dfaedfc79260130565f    delivered   \n2  062ce95fa2ad4dfaedfc79260130565f    delivered   \n3  062ce95fa2ad4dfaedfc79260130565f    delivered   \n4  062ce95fa2ad4dfaedfc79260130565f    delivered   \n\n  order_estimated_delivery_date order_delivered_customer_date  \n0           2017-05-16 00:00:00           2017-05-08 17:09:54  \n1           2017-06-23 00:00:00           2017-06-12 13:54:46  \n2           2017-05-10 00:00:00           2017-05-03 11:37:45  \n3           2017-05-25 00:00:00           2017-05-22 16:07:20  \n4           2017-05-25 00:00:00           2017-05-09 10:04:02  "
                    },
                    "execution_count": 93,
                    "metadata": {},
                    "output_type": "execute_result"
                }
            ],
            "source": "data2 = data2[['order_id', 'product_id' , 'seller_id', 'order_status', 'order_estimated_delivery_date', 'order_delivered_customer_date']]\ndata2.head()"
        },
        {
            "cell_type": "markdown",
            "metadata": {},
            "source": "### Understanding the Dataset better"
        },
        {
            "cell_type": "code",
            "execution_count": 94,
            "metadata": {},
            "outputs": [
                {
                    "data": {
                        "text/plain": "(112650, 6)"
                    },
                    "execution_count": 94,
                    "metadata": {},
                    "output_type": "execute_result"
                }
            ],
            "source": "data2.shape"
        },
        {
            "cell_type": "code",
            "execution_count": 95,
            "metadata": {},
            "outputs": [
                {
                    "data": {
                        "text/html": "<div>\n<style scoped>\n    .dataframe tbody tr th:only-of-type {\n        vertical-align: middle;\n    }\n\n    .dataframe tbody tr th {\n        vertical-align: top;\n    }\n\n    .dataframe thead th {\n        text-align: right;\n    }\n</style>\n<table border=\"1\" class=\"dataframe\">\n  <thead>\n    <tr style=\"text-align: right;\">\n      <th></th>\n      <th>order_id</th>\n      <th>product_id</th>\n      <th>seller_id</th>\n      <th>order_status</th>\n      <th>order_estimated_delivery_date</th>\n      <th>order_delivered_customer_date</th>\n    </tr>\n  </thead>\n  <tbody>\n    <tr>\n      <th>count</th>\n      <td>112650</td>\n      <td>112650</td>\n      <td>112650</td>\n      <td>112650</td>\n      <td>112650</td>\n      <td>110196</td>\n    </tr>\n    <tr>\n      <th>unique</th>\n      <td>98666</td>\n      <td>32951</td>\n      <td>3095</td>\n      <td>7</td>\n      <td>450</td>\n      <td>95664</td>\n    </tr>\n    <tr>\n      <th>top</th>\n      <td>8272b63d03f5f79c56e9e4120aec44ef</td>\n      <td>aca2eb7d00ea1a7b8ebd4e68314663af</td>\n      <td>6560211a19b47992c3666cc44a7e94c0</td>\n      <td>delivered</td>\n      <td>2017-12-20 00:00:00</td>\n      <td>2017-07-31 18:03:02</td>\n    </tr>\n    <tr>\n      <th>freq</th>\n      <td>21</td>\n      <td>527</td>\n      <td>2033</td>\n      <td>110197</td>\n      <td>604</td>\n      <td>21</td>\n    </tr>\n    <tr>\n      <th>first</th>\n      <td>NaN</td>\n      <td>NaN</td>\n      <td>NaN</td>\n      <td>NaN</td>\n      <td>NaN</td>\n      <td>2016-10-11 13:46:32</td>\n    </tr>\n    <tr>\n      <th>last</th>\n      <td>NaN</td>\n      <td>NaN</td>\n      <td>NaN</td>\n      <td>NaN</td>\n      <td>NaN</td>\n      <td>2018-10-17 13:22:46</td>\n    </tr>\n  </tbody>\n</table>\n</div>",
                        "text/plain": "                                order_id                        product_id  \\\ncount                             112650                            112650   \nunique                             98666                             32951   \ntop     8272b63d03f5f79c56e9e4120aec44ef  aca2eb7d00ea1a7b8ebd4e68314663af   \nfreq                                  21                               527   \nfirst                                NaN                               NaN   \nlast                                 NaN                               NaN   \n\n                               seller_id order_status  \\\ncount                             112650       112650   \nunique                              3095            7   \ntop     6560211a19b47992c3666cc44a7e94c0    delivered   \nfreq                                2033       110197   \nfirst                                NaN          NaN   \nlast                                 NaN          NaN   \n\n       order_estimated_delivery_date order_delivered_customer_date  \ncount                         112650                        110196  \nunique                           450                         95664  \ntop              2017-12-20 00:00:00           2017-07-31 18:03:02  \nfreq                             604                            21  \nfirst                            NaN           2016-10-11 13:46:32  \nlast                             NaN           2018-10-17 13:22:46  "
                    },
                    "execution_count": 95,
                    "metadata": {},
                    "output_type": "execute_result"
                }
            ],
            "source": "data2.describe()"
        },
        {
            "cell_type": "markdown",
            "metadata": {},
            "source": "#### There are total 7 types of order status"
        },
        {
            "cell_type": "code",
            "execution_count": 96,
            "metadata": {},
            "outputs": [
                {
                    "name": "stdout",
                    "output_type": "stream",
                    "text": "['delivered' 'invoiced' 'shipped' 'processing' 'canceled' 'unavailable'\n 'approved']\n7\n"
                }
            ],
            "source": "uniqueOrderStatus = data2['order_status'].unique()\nprint(uniqueOrderStatus, len(uniqueOrderStatus), sep=\"\\n\")"
        },
        {
            "cell_type": "markdown",
            "metadata": {},
            "source": "#### There are total 3095 sellers, we will be selecting 4 sellers"
        },
        {
            "cell_type": "code",
            "execution_count": 97,
            "metadata": {},
            "outputs": [
                {
                    "name": "stdout",
                    "output_type": "stream",
                    "text": "['062ce95fa2ad4dfaedfc79260130565f' '0ea22c1cfbdc755f86b9b54b39c16043'\n '2009a095de2a2a41626f6c6d7722678d' ... '9b1ab052f5fca308ba743ac789ebb2e1'\n 'd7d517afce974cd491b8d52bb5b5b1fc' '15ac3c501e2599e4917316fde5c5669a']\n3095\n"
                }
            ],
            "source": "uniqueSellers = data2['seller_id'].unique()\nprint(uniqueSellers, len(uniqueSellers), sep=\"\\n\")"
        },
        {
            "cell_type": "code",
            "execution_count": 98,
            "metadata": {},
            "outputs": [],
            "source": "sellerIds = ['00fc707aaaad2d31347cf883cd2dfe10', '01fdefa7697d26ad920e9e0346d4bd1b', '0241d4d5d36f10f80c644447315af0bd', '0bae85eb84b9fb3bd773911e89288d54']\n\nfor sellerId in sellerIds:\n    sel = data2.loc[data2['seller_id'] == sellerId]\n    if sellerIds.index(sellerId) == 0:\n        selectedData1 = sel\n    elif sellerIds.index(sellerId) == 1:\n        selectedData2 = sel\n    elif sellerIds.index(sellerId) == 2:\n        selectedData3 = sel\n    elif sellerIds.index(sellerId) == 3:\n        selectedData4 = sel\n                                 \nUniquesellersDf = pd.concat([selectedData1, selectedData2, selectedData3, selectedData4])"
        },
        {
            "cell_type": "code",
            "execution_count": 99,
            "metadata": {},
            "outputs": [
                {
                    "data": {
                        "text/html": "<div>\n<style scoped>\n    .dataframe tbody tr th:only-of-type {\n        vertical-align: middle;\n    }\n\n    .dataframe tbody tr th {\n        vertical-align: top;\n    }\n\n    .dataframe thead th {\n        text-align: right;\n    }\n</style>\n<table border=\"1\" class=\"dataframe\">\n  <thead>\n    <tr style=\"text-align: right;\">\n      <th></th>\n      <th>order_id</th>\n      <th>product_id</th>\n      <th>seller_id</th>\n      <th>order_status</th>\n      <th>order_estimated_delivery_date</th>\n      <th>order_delivered_customer_date</th>\n    </tr>\n  </thead>\n  <tbody>\n    <tr>\n      <th>29954</th>\n      <td>cd7cebcffafb9a184b1aeec5b2197c3d</td>\n      <td>36f60d45225e60c7da4558b070ce4b60</td>\n      <td>00fc707aaaad2d31347cf883cd2dfe10</td>\n      <td>delivered</td>\n      <td>2018-03-21 00:00:00</td>\n      <td>2018-03-02 18:16:47</td>\n    </tr>\n    <tr>\n      <th>29955</th>\n      <td>dd9da3d7a26689e951d0153988f8fb2c</td>\n      <td>36f60d45225e60c7da4558b070ce4b60</td>\n      <td>00fc707aaaad2d31347cf883cd2dfe10</td>\n      <td>delivered</td>\n      <td>2018-03-13 00:00:00</td>\n      <td>2018-02-20 00:59:05</td>\n    </tr>\n    <tr>\n      <th>29956</th>\n      <td>4cfd9e02ecb9bfecf560fde716675e87</td>\n      <td>36f60d45225e60c7da4558b070ce4b60</td>\n      <td>00fc707aaaad2d31347cf883cd2dfe10</td>\n      <td>delivered</td>\n      <td>2018-03-21 00:00:00</td>\n      <td>2018-03-09 22:28:29</td>\n    </tr>\n    <tr>\n      <th>29957</th>\n      <td>8d8a1fb20cc3bcbed0c51fd0c70bc538</td>\n      <td>36f60d45225e60c7da4558b070ce4b60</td>\n      <td>00fc707aaaad2d31347cf883cd2dfe10</td>\n      <td>delivered</td>\n      <td>2018-03-14 00:00:00</td>\n      <td>2018-02-27 16:49:07</td>\n    </tr>\n    <tr>\n      <th>29958</th>\n      <td>dfcdfc43867d1c1381bfaf62d6b9c195</td>\n      <td>36f60d45225e60c7da4558b070ce4b60</td>\n      <td>00fc707aaaad2d31347cf883cd2dfe10</td>\n      <td>delivered</td>\n      <td>2018-03-09 00:00:00</td>\n      <td>2018-02-26 18:18:45</td>\n    </tr>\n  </tbody>\n</table>\n</div>",
                        "text/plain": "                               order_id                        product_id  \\\n29954  cd7cebcffafb9a184b1aeec5b2197c3d  36f60d45225e60c7da4558b070ce4b60   \n29955  dd9da3d7a26689e951d0153988f8fb2c  36f60d45225e60c7da4558b070ce4b60   \n29956  4cfd9e02ecb9bfecf560fde716675e87  36f60d45225e60c7da4558b070ce4b60   \n29957  8d8a1fb20cc3bcbed0c51fd0c70bc538  36f60d45225e60c7da4558b070ce4b60   \n29958  dfcdfc43867d1c1381bfaf62d6b9c195  36f60d45225e60c7da4558b070ce4b60   \n\n                              seller_id order_status  \\\n29954  00fc707aaaad2d31347cf883cd2dfe10    delivered   \n29955  00fc707aaaad2d31347cf883cd2dfe10    delivered   \n29956  00fc707aaaad2d31347cf883cd2dfe10    delivered   \n29957  00fc707aaaad2d31347cf883cd2dfe10    delivered   \n29958  00fc707aaaad2d31347cf883cd2dfe10    delivered   \n\n      order_estimated_delivery_date order_delivered_customer_date  \n29954           2018-03-21 00:00:00           2018-03-02 18:16:47  \n29955           2018-03-13 00:00:00           2018-02-20 00:59:05  \n29956           2018-03-21 00:00:00           2018-03-09 22:28:29  \n29957           2018-03-14 00:00:00           2018-02-27 16:49:07  \n29958           2018-03-09 00:00:00           2018-02-26 18:18:45  "
                    },
                    "execution_count": 99,
                    "metadata": {},
                    "output_type": "execute_result"
                }
            ],
            "source": "UniquesellersDf.head()"
        },
        {
            "cell_type": "code",
            "execution_count": 100,
            "metadata": {},
            "outputs": [
                {
                    "data": {
                        "text/plain": "(658, 6)"
                    },
                    "execution_count": 100,
                    "metadata": {},
                    "output_type": "execute_result"
                }
            ],
            "source": "UniquesellersDf.shape"
        },
        {
            "cell_type": "code",
            "execution_count": 101,
            "metadata": {},
            "outputs": [
                {
                    "data": {
                        "text/plain": "4"
                    },
                    "execution_count": 101,
                    "metadata": {},
                    "output_type": "execute_result"
                }
            ],
            "source": "len(UniquesellersDf['seller_id'].unique())"
        },
        {
            "cell_type": "code",
            "execution_count": 102,
            "metadata": {},
            "outputs": [],
            "source": "num = len(uniqueProductReviews) - len(UniquesellersDf)"
        },
        {
            "cell_type": "code",
            "execution_count": 103,
            "metadata": {},
            "outputs": [],
            "source": "df = UniquesellersDf.sample(n = num, replace = True)\nUniquesellersDf = pd.concat([UniquesellersDf, df])"
        },
        {
            "cell_type": "code",
            "execution_count": 104,
            "metadata": {},
            "outputs": [
                {
                    "data": {
                        "text/plain": "(2179, 6)"
                    },
                    "execution_count": 104,
                    "metadata": {},
                    "output_type": "execute_result"
                }
            ],
            "source": "UniquesellersDf.shape"
        },
        {
            "cell_type": "code",
            "execution_count": 105,
            "metadata": {},
            "outputs": [],
            "source": "sellerIDs = [x for x in UniquesellersDf['seller_id']]"
        },
        {
            "cell_type": "code",
            "execution_count": 106,
            "metadata": {},
            "outputs": [
                {
                    "data": {
                        "text/plain": "2179"
                    },
                    "execution_count": 106,
                    "metadata": {},
                    "output_type": "execute_result"
                }
            ],
            "source": "len(sellerIDs)"
        },
        {
            "cell_type": "markdown",
            "metadata": {},
            "source": "#### Refactor `order_estimated_delivery_date`\t& `order_delivered_customer_date` columns"
        },
        {
            "cell_type": "code",
            "execution_count": 107,
            "metadata": {},
            "outputs": [],
            "source": "UniquesellersDf['order_estimated_delivery_date'] = pd.to_datetime(UniquesellersDf['order_estimated_delivery_date'])\nUniquesellersDf['order_delivered_customer_date'] = pd.to_datetime(UniquesellersDf['order_delivered_customer_date']).dt.date.astype('datetime64[ns]')"
        },
        {
            "cell_type": "code",
            "execution_count": 108,
            "metadata": {},
            "outputs": [
                {
                    "data": {
                        "text/html": "<div>\n<style scoped>\n    .dataframe tbody tr th:only-of-type {\n        vertical-align: middle;\n    }\n\n    .dataframe tbody tr th {\n        vertical-align: top;\n    }\n\n    .dataframe thead th {\n        text-align: right;\n    }\n</style>\n<table border=\"1\" class=\"dataframe\">\n  <thead>\n    <tr style=\"text-align: right;\">\n      <th></th>\n      <th>order_id</th>\n      <th>product_id</th>\n      <th>seller_id</th>\n      <th>order_status</th>\n      <th>order_estimated_delivery_date</th>\n      <th>order_delivered_customer_date</th>\n    </tr>\n  </thead>\n  <tbody>\n    <tr>\n      <th>29954</th>\n      <td>cd7cebcffafb9a184b1aeec5b2197c3d</td>\n      <td>36f60d45225e60c7da4558b070ce4b60</td>\n      <td>00fc707aaaad2d31347cf883cd2dfe10</td>\n      <td>delivered</td>\n      <td>2018-03-21</td>\n      <td>2018-03-02</td>\n    </tr>\n    <tr>\n      <th>29955</th>\n      <td>dd9da3d7a26689e951d0153988f8fb2c</td>\n      <td>36f60d45225e60c7da4558b070ce4b60</td>\n      <td>00fc707aaaad2d31347cf883cd2dfe10</td>\n      <td>delivered</td>\n      <td>2018-03-13</td>\n      <td>2018-02-20</td>\n    </tr>\n    <tr>\n      <th>29956</th>\n      <td>4cfd9e02ecb9bfecf560fde716675e87</td>\n      <td>36f60d45225e60c7da4558b070ce4b60</td>\n      <td>00fc707aaaad2d31347cf883cd2dfe10</td>\n      <td>delivered</td>\n      <td>2018-03-21</td>\n      <td>2018-03-09</td>\n    </tr>\n    <tr>\n      <th>29957</th>\n      <td>8d8a1fb20cc3bcbed0c51fd0c70bc538</td>\n      <td>36f60d45225e60c7da4558b070ce4b60</td>\n      <td>00fc707aaaad2d31347cf883cd2dfe10</td>\n      <td>delivered</td>\n      <td>2018-03-14</td>\n      <td>2018-02-27</td>\n    </tr>\n    <tr>\n      <th>29958</th>\n      <td>dfcdfc43867d1c1381bfaf62d6b9c195</td>\n      <td>36f60d45225e60c7da4558b070ce4b60</td>\n      <td>00fc707aaaad2d31347cf883cd2dfe10</td>\n      <td>delivered</td>\n      <td>2018-03-09</td>\n      <td>2018-02-26</td>\n    </tr>\n  </tbody>\n</table>\n</div>",
                        "text/plain": "                               order_id                        product_id  \\\n29954  cd7cebcffafb9a184b1aeec5b2197c3d  36f60d45225e60c7da4558b070ce4b60   \n29955  dd9da3d7a26689e951d0153988f8fb2c  36f60d45225e60c7da4558b070ce4b60   \n29956  4cfd9e02ecb9bfecf560fde716675e87  36f60d45225e60c7da4558b070ce4b60   \n29957  8d8a1fb20cc3bcbed0c51fd0c70bc538  36f60d45225e60c7da4558b070ce4b60   \n29958  dfcdfc43867d1c1381bfaf62d6b9c195  36f60d45225e60c7da4558b070ce4b60   \n\n                              seller_id order_status  \\\n29954  00fc707aaaad2d31347cf883cd2dfe10    delivered   \n29955  00fc707aaaad2d31347cf883cd2dfe10    delivered   \n29956  00fc707aaaad2d31347cf883cd2dfe10    delivered   \n29957  00fc707aaaad2d31347cf883cd2dfe10    delivered   \n29958  00fc707aaaad2d31347cf883cd2dfe10    delivered   \n\n      order_estimated_delivery_date order_delivered_customer_date  \n29954                    2018-03-21                    2018-03-02  \n29955                    2018-03-13                    2018-02-20  \n29956                    2018-03-21                    2018-03-09  \n29957                    2018-03-14                    2018-02-27  \n29958                    2018-03-09                    2018-02-26  "
                    },
                    "execution_count": 108,
                    "metadata": {},
                    "output_type": "execute_result"
                }
            ],
            "source": "UniquesellersDf.head()"
        },
        {
            "cell_type": "code",
            "execution_count": 109,
            "metadata": {},
            "outputs": [],
            "source": "data2.to_csv('order_details2.csv', encoding='utf-8', index=False)"
        },
        {
            "cell_type": "markdown",
            "metadata": {},
            "source": "### Calculate Seller rating out of 2\n1. Based on Order Status"
        },
        {
            "cell_type": "code",
            "execution_count": 110,
            "metadata": {},
            "outputs": [
                {
                    "data": {
                        "text/plain": "order_id                                 object\nproduct_id                               object\nseller_id                                object\norder_status                             object\norder_estimated_delivery_date    datetime64[ns]\norder_delivered_customer_date    datetime64[ns]\ndtype: object"
                    },
                    "execution_count": 110,
                    "metadata": {},
                    "output_type": "execute_result"
                }
            ],
            "source": "UniquesellersDf.dtypes"
        },
        {
            "cell_type": "code",
            "execution_count": 111,
            "metadata": {},
            "outputs": [],
            "source": "rating = []\nfor x in UniquesellersDf['order_status']:\n    if x == 'delivered':\n        rating.append(1)\n    if x == 'canceled':\n        rating.append(0)\n    if x == 'unavailable':\n        rating.append(0)\n    else:\n        rating.append(0)"
        },
        {
            "cell_type": "code",
            "execution_count": 112,
            "metadata": {},
            "outputs": [],
            "source": "UniquesellersDf['daysDiff'] = UniquesellersDf['order_estimated_delivery_date'] - UniquesellersDf['order_delivered_customer_date']\nUniquesellersDf['daysDiff'] = UniquesellersDf['daysDiff'] / numpy.timedelta64(1, 'D')"
        },
        {
            "cell_type": "code",
            "execution_count": 113,
            "metadata": {},
            "outputs": [
                {
                    "data": {
                        "text/plain": "order_id                                 object\nproduct_id                               object\nseller_id                                object\norder_status                             object\norder_estimated_delivery_date    datetime64[ns]\norder_delivered_customer_date    datetime64[ns]\ndaysDiff                                float64\ndtype: object"
                    },
                    "execution_count": 113,
                    "metadata": {},
                    "output_type": "execute_result"
                }
            ],
            "source": "UniquesellersDf.dtypes"
        },
        {
            "cell_type": "code",
            "execution_count": 114,
            "metadata": {},
            "outputs": [
                {
                    "data": {
                        "text/html": "<div>\n<style scoped>\n    .dataframe tbody tr th:only-of-type {\n        vertical-align: middle;\n    }\n\n    .dataframe tbody tr th {\n        vertical-align: top;\n    }\n\n    .dataframe thead th {\n        text-align: right;\n    }\n</style>\n<table border=\"1\" class=\"dataframe\">\n  <thead>\n    <tr style=\"text-align: right;\">\n      <th></th>\n      <th>order_id</th>\n      <th>product_id</th>\n      <th>seller_id</th>\n      <th>order_status</th>\n      <th>order_estimated_delivery_date</th>\n      <th>order_delivered_customer_date</th>\n      <th>daysDiff</th>\n    </tr>\n  </thead>\n  <tbody>\n    <tr>\n      <th>29954</th>\n      <td>cd7cebcffafb9a184b1aeec5b2197c3d</td>\n      <td>36f60d45225e60c7da4558b070ce4b60</td>\n      <td>00fc707aaaad2d31347cf883cd2dfe10</td>\n      <td>delivered</td>\n      <td>2018-03-21</td>\n      <td>2018-03-02</td>\n      <td>19.0</td>\n    </tr>\n    <tr>\n      <th>29955</th>\n      <td>dd9da3d7a26689e951d0153988f8fb2c</td>\n      <td>36f60d45225e60c7da4558b070ce4b60</td>\n      <td>00fc707aaaad2d31347cf883cd2dfe10</td>\n      <td>delivered</td>\n      <td>2018-03-13</td>\n      <td>2018-02-20</td>\n      <td>21.0</td>\n    </tr>\n    <tr>\n      <th>29956</th>\n      <td>4cfd9e02ecb9bfecf560fde716675e87</td>\n      <td>36f60d45225e60c7da4558b070ce4b60</td>\n      <td>00fc707aaaad2d31347cf883cd2dfe10</td>\n      <td>delivered</td>\n      <td>2018-03-21</td>\n      <td>2018-03-09</td>\n      <td>12.0</td>\n    </tr>\n    <tr>\n      <th>29957</th>\n      <td>8d8a1fb20cc3bcbed0c51fd0c70bc538</td>\n      <td>36f60d45225e60c7da4558b070ce4b60</td>\n      <td>00fc707aaaad2d31347cf883cd2dfe10</td>\n      <td>delivered</td>\n      <td>2018-03-14</td>\n      <td>2018-02-27</td>\n      <td>15.0</td>\n    </tr>\n    <tr>\n      <th>29958</th>\n      <td>dfcdfc43867d1c1381bfaf62d6b9c195</td>\n      <td>36f60d45225e60c7da4558b070ce4b60</td>\n      <td>00fc707aaaad2d31347cf883cd2dfe10</td>\n      <td>delivered</td>\n      <td>2018-03-09</td>\n      <td>2018-02-26</td>\n      <td>11.0</td>\n    </tr>\n  </tbody>\n</table>\n</div>",
                        "text/plain": "                               order_id                        product_id  \\\n29954  cd7cebcffafb9a184b1aeec5b2197c3d  36f60d45225e60c7da4558b070ce4b60   \n29955  dd9da3d7a26689e951d0153988f8fb2c  36f60d45225e60c7da4558b070ce4b60   \n29956  4cfd9e02ecb9bfecf560fde716675e87  36f60d45225e60c7da4558b070ce4b60   \n29957  8d8a1fb20cc3bcbed0c51fd0c70bc538  36f60d45225e60c7da4558b070ce4b60   \n29958  dfcdfc43867d1c1381bfaf62d6b9c195  36f60d45225e60c7da4558b070ce4b60   \n\n                              seller_id order_status  \\\n29954  00fc707aaaad2d31347cf883cd2dfe10    delivered   \n29955  00fc707aaaad2d31347cf883cd2dfe10    delivered   \n29956  00fc707aaaad2d31347cf883cd2dfe10    delivered   \n29957  00fc707aaaad2d31347cf883cd2dfe10    delivered   \n29958  00fc707aaaad2d31347cf883cd2dfe10    delivered   \n\n      order_estimated_delivery_date order_delivered_customer_date  daysDiff  \n29954                    2018-03-21                    2018-03-02      19.0  \n29955                    2018-03-13                    2018-02-20      21.0  \n29956                    2018-03-21                    2018-03-09      12.0  \n29957                    2018-03-14                    2018-02-27      15.0  \n29958                    2018-03-09                    2018-02-26      11.0  "
                    },
                    "execution_count": 114,
                    "metadata": {},
                    "output_type": "execute_result"
                }
            ],
            "source": "UniquesellersDf.head()"
        },
        {
            "cell_type": "code",
            "execution_count": 115,
            "metadata": {},
            "outputs": [],
            "source": "rating2 = []\nfor i in UniquesellersDf['daysDiff']:\n    if i <= 0.0:\n        rating2.append(0)\n    if i > 0.0:\n        rating2.append(1)\n    else:\n        rating2.append(0) "
        },
        {
            "cell_type": "code",
            "execution_count": 116,
            "metadata": {},
            "outputs": [
                {
                    "name": "stdout",
                    "output_type": "stream",
                    "text": "4350 2272\n"
                }
            ],
            "source": "print(len(rating), len(rating2))"
        },
        {
            "cell_type": "code",
            "execution_count": 117,
            "metadata": {},
            "outputs": [],
            "source": "finalRating = [sum(x) for x in zip(rating, rating2)]"
        },
        {
            "cell_type": "code",
            "execution_count": 118,
            "metadata": {},
            "outputs": [],
            "source": "initialRating = [x for x in sellerScoreDf['customer_satisfaction_based_on_reviews']]"
        },
        {
            "cell_type": "markdown",
            "metadata": {},
            "source": "### Calculate the seller score by suming up the customer reviews score and order details score"
        },
        {
            "cell_type": "code",
            "execution_count": 119,
            "metadata": {},
            "outputs": [],
            "source": "sellersatisfactionScore = [sum(x) for x in zip(initialRating, finalRating)]"
        },
        {
            "cell_type": "code",
            "execution_count": 120,
            "metadata": {},
            "outputs": [
                {
                    "data": {
                        "text/html": "<div>\n<style scoped>\n    .dataframe tbody tr th:only-of-type {\n        vertical-align: middle;\n    }\n\n    .dataframe tbody tr th {\n        vertical-align: top;\n    }\n\n    .dataframe thead th {\n        text-align: right;\n    }\n</style>\n<table border=\"1\" class=\"dataframe\">\n  <thead>\n    <tr style=\"text-align: right;\">\n      <th></th>\n      <th>product_id</th>\n      <th>product_name</th>\n      <th>customer_emotion</th>\n      <th>customer_satisfaction_based_on_reviews</th>\n    </tr>\n  </thead>\n  <tbody>\n    <tr>\n      <th>0</th>\n      <td>AVpgNzjwLJeJML43Kpxn</td>\n      <td>Batteries</td>\n      <td>sad</td>\n      <td>1</td>\n    </tr>\n    <tr>\n      <th>1</th>\n      <td>AVpgNzjwLJeJML43Kpxn</td>\n      <td>Batteries</td>\n      <td>sad</td>\n      <td>1</td>\n    </tr>\n    <tr>\n      <th>2</th>\n      <td>AVpgNzjwLJeJML43Kpxn</td>\n      <td>Batteries</td>\n      <td>joy</td>\n      <td>3</td>\n    </tr>\n    <tr>\n      <th>3</th>\n      <td>AVpgNzjwLJeJML43Kpxn</td>\n      <td>Batteries</td>\n      <td>joy</td>\n      <td>1</td>\n    </tr>\n    <tr>\n      <th>4</th>\n      <td>AVpgNzjwLJeJML43Kpxn</td>\n      <td>Batteries</td>\n      <td>joy</td>\n      <td>1</td>\n    </tr>\n  </tbody>\n</table>\n</div>",
                        "text/plain": "             product_id product_name customer_emotion  \\\n0  AVpgNzjwLJeJML43Kpxn    Batteries              sad   \n1  AVpgNzjwLJeJML43Kpxn    Batteries              sad   \n2  AVpgNzjwLJeJML43Kpxn    Batteries              joy   \n3  AVpgNzjwLJeJML43Kpxn    Batteries              joy   \n4  AVpgNzjwLJeJML43Kpxn    Batteries              joy   \n\n   customer_satisfaction_based_on_reviews  \n0                                       1  \n1                                       1  \n2                                       3  \n3                                       1  \n4                                       1  "
                    },
                    "execution_count": 120,
                    "metadata": {},
                    "output_type": "execute_result"
                }
            ],
            "source": "sellerScoreDf.head()"
        },
        {
            "cell_type": "code",
            "execution_count": 121,
            "metadata": {},
            "outputs": [
                {
                    "data": {
                        "text/plain": "2179"
                    },
                    "execution_count": 121,
                    "metadata": {},
                    "output_type": "execute_result"
                }
            ],
            "source": "len(initialRating)"
        },
        {
            "cell_type": "code",
            "execution_count": 122,
            "metadata": {},
            "outputs": [
                {
                    "data": {
                        "text/plain": "2272"
                    },
                    "execution_count": 122,
                    "metadata": {},
                    "output_type": "execute_result"
                }
            ],
            "source": "len(finalRating)"
        },
        {
            "cell_type": "code",
            "execution_count": 123,
            "metadata": {},
            "outputs": [
                {
                    "data": {
                        "text/plain": "2179"
                    },
                    "execution_count": 123,
                    "metadata": {},
                    "output_type": "execute_result"
                }
            ],
            "source": "len(sellersatisfactionScore)"
        },
        {
            "cell_type": "markdown",
            "metadata": {},
            "source": "### Finally Create the Dataset that contains product_ids, customer_emotions, customer_review_satisfaction_score, customer_order_satisfaction_score and seller_quality_score"
        },
        {
            "cell_type": "code",
            "execution_count": 145,
            "metadata": {},
            "outputs": [],
            "source": "secondPartDataFrame = pd.DataFrame()\n"
        },
        {
            "cell_type": "code",
            "execution_count": 146,
            "metadata": {},
            "outputs": [],
            "source": "secondPartDataFrame['product_id'] = sellerScoreDf['product_id']\nsecondPartDataFrame['product_name'] = sellerScoreDf['product_name']\nsecondPartDataFrame['seller_id'] = sellerIDs\nsecondPartDataFrame['seller_name'] = sellerIDs\nsecondPartDataFrame['customer_emotion'] = sellerScoreDf['customer_emotion']\nsecondPartDataFrame['seller_quality_score'] = sellersatisfactionScore"
        },
        {
            "cell_type": "markdown",
            "metadata": {},
            "source": "#### We will give names to the seller IDs so that it is easy to Identify"
        },
        {
            "cell_type": "code",
            "execution_count": 147,
            "metadata": {},
            "outputs": [],
            "source": "secondPartDataFrame['seller_name'].replace(\n            to_replace=['00fc707aaaad2d31347cf883cd2dfe10', '01fdefa7697d26ad920e9e0346d4bd1b', '0241d4d5d36f10f80c644447315af0bd', '0bae85eb84b9fb3bd773911e89288d54'],\n    value=['Seller1', 'Seller2', 'Seller3', 'Seller4'], inplace=True)"
        },
        {
            "cell_type": "code",
            "execution_count": 148,
            "metadata": {},
            "outputs": [
                {
                    "data": {
                        "text/html": "<div>\n<style scoped>\n    .dataframe tbody tr th:only-of-type {\n        vertical-align: middle;\n    }\n\n    .dataframe tbody tr th {\n        vertical-align: top;\n    }\n\n    .dataframe thead th {\n        text-align: right;\n    }\n</style>\n<table border=\"1\" class=\"dataframe\">\n  <thead>\n    <tr style=\"text-align: right;\">\n      <th></th>\n      <th>product_id</th>\n      <th>product_name</th>\n      <th>seller_id</th>\n      <th>seller_name</th>\n      <th>customer_emotion</th>\n      <th>seller_quality_score</th>\n    </tr>\n  </thead>\n  <tbody>\n    <tr>\n      <th>0</th>\n      <td>AVpgNzjwLJeJML43Kpxn</td>\n      <td>Batteries</td>\n      <td>00fc707aaaad2d31347cf883cd2dfe10</td>\n      <td>Seller1</td>\n      <td>sad</td>\n      <td>3</td>\n    </tr>\n    <tr>\n      <th>1</th>\n      <td>AVpgNzjwLJeJML43Kpxn</td>\n      <td>Batteries</td>\n      <td>00fc707aaaad2d31347cf883cd2dfe10</td>\n      <td>Seller1</td>\n      <td>sad</td>\n      <td>2</td>\n    </tr>\n    <tr>\n      <th>2</th>\n      <td>AVpgNzjwLJeJML43Kpxn</td>\n      <td>Batteries</td>\n      <td>00fc707aaaad2d31347cf883cd2dfe10</td>\n      <td>Seller1</td>\n      <td>joy</td>\n      <td>5</td>\n    </tr>\n    <tr>\n      <th>3</th>\n      <td>AVpgNzjwLJeJML43Kpxn</td>\n      <td>Batteries</td>\n      <td>00fc707aaaad2d31347cf883cd2dfe10</td>\n      <td>Seller1</td>\n      <td>joy</td>\n      <td>2</td>\n    </tr>\n    <tr>\n      <th>4</th>\n      <td>AVpgNzjwLJeJML43Kpxn</td>\n      <td>Batteries</td>\n      <td>00fc707aaaad2d31347cf883cd2dfe10</td>\n      <td>Seller1</td>\n      <td>joy</td>\n      <td>3</td>\n    </tr>\n  </tbody>\n</table>\n</div>",
                        "text/plain": "             product_id product_name                         seller_id  \\\n0  AVpgNzjwLJeJML43Kpxn    Batteries  00fc707aaaad2d31347cf883cd2dfe10   \n1  AVpgNzjwLJeJML43Kpxn    Batteries  00fc707aaaad2d31347cf883cd2dfe10   \n2  AVpgNzjwLJeJML43Kpxn    Batteries  00fc707aaaad2d31347cf883cd2dfe10   \n3  AVpgNzjwLJeJML43Kpxn    Batteries  00fc707aaaad2d31347cf883cd2dfe10   \n4  AVpgNzjwLJeJML43Kpxn    Batteries  00fc707aaaad2d31347cf883cd2dfe10   \n\n  seller_name customer_emotion  seller_quality_score  \n0     Seller1              sad                     3  \n1     Seller1              sad                     2  \n2     Seller1              joy                     5  \n3     Seller1              joy                     2  \n4     Seller1              joy                     3  "
                    },
                    "execution_count": 148,
                    "metadata": {},
                    "output_type": "execute_result"
                }
            ],
            "source": "dataset2 = secondPartDataFrame\ndataset2.head()"
        },
        {
            "cell_type": "code",
            "execution_count": 151,
            "metadata": {},
            "outputs": [
                {
                    "data": {
                        "text/plain": "array(['Seller1', 'Seller2', 'Seller3', 'Seller4'], dtype=object)"
                    },
                    "execution_count": 151,
                    "metadata": {},
                    "output_type": "execute_result"
                }
            ],
            "source": "dataset2['seller_name'].unique()"
        },
        {
            "cell_type": "code",
            "execution_count": 152,
            "metadata": {},
            "outputs": [],
            "source": "dataset2.to_csv('New_seller_quality_scores-28th.csv', encoding='utf-8', index=False)"
        },
        {
            "cell_type": "markdown",
            "metadata": {},
            "source": "### Insert the dataset into DB2 on Cloud"
        },
        {
            "cell_type": "code",
            "execution_count": 153,
            "metadata": {},
            "outputs": [],
            "source": "dsn_driver = \"IBM DB2 ODBC DRIVER\"\ndsn_database = credentials_1['database'] \ndsn_hostname = credentials_1['host']\ndsn_port = \"50000\"                \ndsn_uid = credentials_1['username']      \ndsn_pwd = credentials_1['password']\n\ndsn = (\n    \"DRIVER={{IBM DB2 ODBC DRIVER}};\"\n    \"DATABASE={0};\"\n    \"HOSTNAME={1};\"\n    \"PORT={2};\"\n    \"PROTOCOL=TCPIP;\"\n    \"UID={3};\"\n    \"PWD={4};\").format(dsn_database, dsn_hostname, dsn_port, dsn_uid, dsn_pwd)\n\nconn = ibm_db.connect(dsn, \"\", \"\")"
        },
        {
            "cell_type": "code",
            "execution_count": 156,
            "metadata": {},
            "outputs": [
                {
                    "data": {
                        "text/plain": "<ibm_db.IBM_DBStatement at 0x7efc531a9f80>"
                    },
                    "execution_count": 156,
                    "metadata": {},
                    "output_type": "execute_result"
                }
            ],
            "source": "create_statement = 'CREATE TABLE \"SELLERQUALITYSCORE\" (\"product_id\" VARCHAR, \"product_name\" VARCHAR, \"seller_id\" VARCHAR, \"seller_name\" VARCHAR, \"customer_emotion\" VARCHAR, \"seller_quality_score\" INTEGER)'\ncreate_statement = create_statement.replace('VARCHAR', 'VARCHAR(256)')\nibm_db.exec_immediate(conn, create_statement)"
        },
        {
            "cell_type": "code",
            "execution_count": 157,
            "metadata": {},
            "outputs": [],
            "source": "for index, row in dataset2.iterrows():\n\n    a ='\\''\n    product_ids = a+str(row['product_id'])+a\n    product_names = a+str(row['product_name'])+a\n    seller_ids = a+str(row['seller_id'])+a\n    seller_names = a+str(row['seller_name'])+a\n    customer_emotions = a+str(row['customer_emotion'])+a\n    seller_quality_score = a+str(row['seller_quality_score'])+a\n    \n    insert = 'INSERT INTO VFB24164.SELLERQUALITYSCORE VALUES(%s, %s, %s, %s, %s, %s)' %(product_ids, product_names, seller_ids, seller_names, customer_emotions, seller_quality_score)\n    ibm_db.exec_immediate(conn, insert)"
        },
        {
            "cell_type": "code",
            "execution_count": null,
            "metadata": {},
            "outputs": [],
            "source": ""
        }
    ],
    "metadata": {
        "kernelspec": {
            "display_name": "Python 3.6",
            "language": "python",
            "name": "python3"
        },
        "language_info": {
            "codemirror_mode": {
                "name": "ipython",
                "version": 3
            },
            "file_extension": ".py",
            "mimetype": "text/x-python",
            "name": "python",
            "nbconvert_exporter": "python",
            "pygments_lexer": "ipython3",
            "version": "3.6.9"
        }
    },
    "nbformat": 4,
    "nbformat_minor": 1
}